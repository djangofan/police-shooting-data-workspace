{
 "cells": [
  {
   "cell_type": "code",
   "execution_count": 7,
   "metadata": {},
   "outputs": [
    {
     "name": "stdout",
     "output_type": "stream",
     "text": [
      "Starting location: /home/jovyan/work/notebooks\n"
     ]
    }
   ],
   "source": [
    "# using Pkg\n",
    "# Pkg.add(\"CSV\")\n",
    "# Pkg.add(\"DataFrames\")\n",
    "# Pkg.add(\"CPUTime\")\n",
    "# #Pkg.clone(\"https://github.com/schmrlng/CPUTime.jl.git\")\n",
    "# Pkg.add(\"ProfileView\")\n",
    "# Pkg.add(\"Profile\")\n",
    "# Pkg.add(\"Dates\")\n",
    "# Pkg.update()\n",
    "println(\"Starting location: $(Base.source_dir())\")"
   ]
  },
  {
   "cell_type": "code",
   "execution_count": 12,
   "metadata": {},
   "outputs": [
    {
     "name": "stdout",
     "output_type": "stream",
     "text": [
      "Started process at: /home/jovyan/work/notebooks\n",
      "99999\n"
     ]
    },
    {
     "data": {
      "text/html": [
       "<table class=\"data-frame\"><thead><tr><th></th><th>VendorID</th><th>tpep_pickup_datetime</th><th>tpep_dropoff_datetime</th><th>passenger_count</th><th>trip_distance</th><th>pickup_longitude</th><th>pickup_latitude</th><th>RateCodeID</th><th>store_and_fwd_flag</th><th>dropoff_longitude</th><th>dropoff_latitude</th><th>payment_type</th><th>fare_amount</th><th>extra</th><th>mta_tax</th><th>tip_amount</th><th>tolls_amount</th><th>total_amount</th></tr><tr><th></th><th>Int64⍰</th><th>DateTime⍰</th><th>DateTime⍰</th><th>Int64⍰</th><th>Float64⍰</th><th>Float64⍰</th><th>Float64⍰</th><th>Int64⍰</th><th>String⍰</th><th>Float64⍰</th><th>Float64⍰</th><th>Int64⍰</th><th>Float64⍰</th><th>Float64⍰</th><th>Float64⍰</th><th>Float64⍰</th><th>Float64⍰</th><th>Float64⍰</th></tr></thead><tbody><tr><th>1</th><td>2</td><td>2015-01-08T22:44:09</td><td>2015-01-08T22:50:56</td><td>1</td><td>1.55</td><td>-73.9877</td><td>40.7243</td><td>1</td><td>N</td><td>-73.9738</td><td>40.7434</td><td>2</td><td>7.5</td><td>0.5</td><td>0.5</td><td>0.0</td><td>0.0</td><td>8.8</td></tr><tr><th>2</th><td>1</td><td>2015-01-08T22:44:09</td><td>2015-01-08T22:51:17</td><td>3</td><td>1.2</td><td>-73.9916</td><td>40.7269</td><td>1</td><td>N</td><td>-74.0041</td><td>40.7211</td><td>2</td><td>7.0</td><td>0.5</td><td>0.5</td><td>0.0</td><td>0.0</td><td>8.3</td></tr><tr><th>3</th><td>1</td><td>2015-01-08T22:44:10</td><td>2015-01-08T22:55:27</td><td>1</td><td>2.4</td><td>-73.9819</td><td>40.7834</td><td>1</td><td>N</td><td>-73.9524</td><td>40.7982</td><td>2</td><td>10.5</td><td>0.5</td><td>0.5</td><td>0.0</td><td>0.0</td><td>11.8</td></tr><tr><th>4</th><td>1</td><td>2015-01-08T22:44:10</td><td>2015-01-08T22:58:09</td><td>1</td><td>7.3</td><td>-73.9731</td><td>40.7436</td><td>1</td><td>N</td><td>-73.9196</td><td>40.832</td><td>2</td><td>21.5</td><td>0.5</td><td>0.5</td><td>0.0</td><td>0.0</td><td>22.8</td></tr><tr><th>5</th><td>1</td><td>2015-01-08T22:44:12</td><td>2015-01-08T22:46:16</td><td>1</td><td>0.4</td><td>-73.9829</td><td>40.7662</td><td>1</td><td>N</td><td>-73.9844</td><td>40.7641</td><td>2</td><td>3.5</td><td>0.5</td><td>0.5</td><td>0.0</td><td>0.0</td><td>4.8</td></tr><tr><th>6</th><td>2</td><td>2015-01-08T22:44:12</td><td>2015-01-08T22:48:33</td><td>1</td><td>0.71</td><td>-73.9825</td><td>40.764</td><td>1</td><td>N</td><td>-73.9746</td><td>40.7578</td><td>2</td><td>5.0</td><td>0.5</td><td>0.5</td><td>0.0</td><td>0.0</td><td>6.3</td></tr></tbody></table>"
      ],
      "text/plain": [
       "6×18 DataFrame. Omitted printing of 15 columns\n",
       "│ Row │ VendorID │ tpep_pickup_datetime │ tpep_dropoff_datetime │\n",
       "│     │ \u001b[90mInt64⍰\u001b[39m   │ \u001b[90mDateTime⍰\u001b[39m            │ \u001b[90mDateTime⍰\u001b[39m             │\n",
       "├─────┼──────────┼──────────────────────┼───────────────────────┤\n",
       "│ 1   │ 2        │ 2015-01-08T22:44:09  │ 2015-01-08T22:50:56   │\n",
       "│ 2   │ 1        │ 2015-01-08T22:44:09  │ 2015-01-08T22:51:17   │\n",
       "│ 3   │ 1        │ 2015-01-08T22:44:10  │ 2015-01-08T22:55:27   │\n",
       "│ 4   │ 1        │ 2015-01-08T22:44:10  │ 2015-01-08T22:58:09   │\n",
       "│ 5   │ 1        │ 2015-01-08T22:44:12  │ 2015-01-08T22:46:16   │\n",
       "│ 6   │ 2        │ 2015-01-08T22:44:12  │ 2015-01-08T22:48:33   │"
      ]
     },
     "execution_count": 12,
     "metadata": {},
     "output_type": "execute_result"
    }
   ],
   "source": [
    "using Dates, CSV, DataFrames, CPUTime, ProfileView, Profile;\n",
    "\n",
    "dfmt = dateformat\"yyyy-mm-dd HH:MM:SS\"\n",
    "\n",
    "println(\"Started process at: $(Base.source_dir())\")\n",
    "df = convert(DataFrame, CSV.read(\"$(Base.source_dir())/../data/sample_100000.csv\", dateformat=dfmt))\n",
    "println(nrow(df))\n",
    "head(df)"
   ]
  },
  {
   "cell_type": "code",
   "execution_count": 13,
   "metadata": {},
   "outputs": [
    {
     "name": "stdout",
     "output_type": "stream",
     "text": [
      "elapsed CPU time: 0.27 seconds\n",
      "  0.273440 seconds (4.69 M allocations: 83.899 MiB, 7.15% gc time)\n"
     ]
    },
    {
     "data": {
      "text/html": [
       "<table class=\"data-frame\"><thead><tr><th></th><th>VendorID</th><th>tpep_pickup_datetime</th><th>tpep_dropoff_datetime</th><th>passenger_count</th><th>trip_distance</th><th>pickup_longitude</th><th>pickup_latitude</th><th>RateCodeID</th><th>store_and_fwd_flag</th><th>dropoff_longitude</th><th>dropoff_latitude</th><th>payment_type</th><th>fare_amount</th><th>extra</th><th>mta_tax</th><th>tip_amount</th><th>tolls_amount</th><th>total_amount</th></tr><tr><th></th><th>Int64⍰</th><th>DateTime⍰</th><th>DateTime⍰</th><th>Int64⍰</th><th>Float64⍰</th><th>Float64⍰</th><th>Float64⍰</th><th>Int64⍰</th><th>String⍰</th><th>Float64⍰</th><th>Float64⍰</th><th>Int64⍰</th><th>Float64⍰</th><th>Float64⍰</th><th>Float64⍰</th><th>Float64⍰</th><th>Float64⍰</th><th>Float64⍰</th></tr></thead><tbody><tr><th>1</th><td>1</td><td>2015-01-01T00:00:00</td><td>2015-01-01T00:11:26</td><td>5</td><td>4.0</td><td>-73.9714</td><td>40.7602</td><td>1</td><td>N</td><td>-73.9212</td><td>40.7683</td><td>2</td><td>13.5</td><td>0.5</td><td>0.5</td><td>0.0</td><td>0.0</td><td>14.5</td></tr><tr><th>2</th><td>1</td><td>2015-01-01T00:00:01</td><td>2015-01-01T00:03:49</td><td>1</td><td>0.8</td><td>-73.8608</td><td>40.7573</td><td>1</td><td>N</td><td>-73.8681</td><td>40.7523</td><td>2</td><td>5.0</td><td>0.5</td><td>0.5</td><td>0.0</td><td>0.0</td><td>6.3</td></tr><tr><th>3</th><td>1</td><td>2015-01-01T00:00:04</td><td>2015-01-01T00:10:44</td><td>3</td><td>2.5</td><td>-73.957</td><td>40.7745</td><td>1</td><td>N</td><td>-73.966</td><td>40.8006</td><td>2</td><td>10.5</td><td>0.5</td><td>0.5</td><td>0.0</td><td>0.0</td><td>11.8</td></tr><tr><th>4</th><td>1</td><td>2015-01-01T00:00:06</td><td>2015-01-01T00:00:48</td><td>2</td><td>0.0</td><td>-73.9854</td><td>40.7108</td><td>1</td><td>N</td><td>-73.9848</td><td>40.7107</td><td>3</td><td>2.5</td><td>0.5</td><td>0.5</td><td>0.0</td><td>0.0</td><td>3.8</td></tr><tr><th>5</th><td>1</td><td>2015-01-01T00:00:07</td><td>2015-01-01T00:11:26</td><td>1</td><td>2.5</td><td>-73.9714</td><td>40.7954</td><td>1</td><td>N</td><td>-73.9501</td><td>40.8265</td><td>2</td><td>11.0</td><td>0.5</td><td>0.5</td><td>0.0</td><td>0.0</td><td>12.3</td></tr><tr><th>6</th><td>1</td><td>2015-01-01T00:00:07</td><td>2015-01-01T00:11:07</td><td>1</td><td>2.1</td><td>-74.0019</td><td>40.7395</td><td>1</td><td>N</td><td>-73.9783</td><td>40.7514</td><td>1</td><td>10.0</td><td>0.5</td><td>0.5</td><td>2.8</td><td>0.0</td><td>14.1</td></tr></tbody></table>"
      ],
      "text/plain": [
       "6×18 DataFrame. Omitted printing of 15 columns\n",
       "│ Row │ VendorID │ tpep_pickup_datetime │ tpep_dropoff_datetime │\n",
       "│     │ \u001b[90mInt64⍰\u001b[39m   │ \u001b[90mDateTime⍰\u001b[39m            │ \u001b[90mDateTime⍰\u001b[39m             │\n",
       "├─────┼──────────┼──────────────────────┼───────────────────────┤\n",
       "│ 1   │ 1        │ 2015-01-01T00:00:00  │ 2015-01-01T00:11:26   │\n",
       "│ 2   │ 1        │ 2015-01-01T00:00:01  │ 2015-01-01T00:03:49   │\n",
       "│ 3   │ 1        │ 2015-01-01T00:00:04  │ 2015-01-01T00:10:44   │\n",
       "│ 4   │ 1        │ 2015-01-01T00:00:06  │ 2015-01-01T00:00:48   │\n",
       "│ 5   │ 1        │ 2015-01-01T00:00:07  │ 2015-01-01T00:11:26   │\n",
       "│ 6   │ 1        │ 2015-01-01T00:00:07  │ 2015-01-01T00:11:07   │"
      ]
     },
     "execution_count": 13,
     "metadata": {},
     "output_type": "execute_result"
    }
   ],
   "source": [
    "function reduce_dataframe(data_frame)\n",
    "  return data_frame[[:VendorID, :tpep_pickup_datetime, :tpep_dropoff_datetime, :passenger_count]]\n",
    "end\n",
    "#df = reduce_dataframe(df)\n",
    "\n",
    "function sort_data()\n",
    "  return sort!(df, [:VendorID, :tpep_pickup_datetime])\n",
    "end\n",
    "\n",
    "@time @CPUtime df = sort_data()\n",
    "\n",
    "head(df)"
   ]
  },
  {
   "cell_type": "code",
   "execution_count": null,
   "metadata": {},
   "outputs": [],
   "source": []
  }
 ],
 "metadata": {
  "kernelspec": {
   "display_name": "Julia 1.0.0",
   "language": "julia",
   "name": "julia-1.0"
  },
  "language_info": {
   "file_extension": ".jl",
   "mimetype": "application/julia",
   "name": "julia",
   "version": "1.0.0"
  }
 },
 "nbformat": 4,
 "nbformat_minor": 2
}
