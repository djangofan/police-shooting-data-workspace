{
 "cells": [
  {
   "cell_type": "code",
   "execution_count": 47,
   "metadata": {},
   "outputs": [
    {
     "name": "stdout",
     "output_type": "stream",
     "text": [
      "Hello\n",
      "/home/jovyan"
     ]
    }
   ],
   "source": [
    "println(\"Hello\")\n",
    "print(\"$(homedir())\")"
   ]
  },
  {
   "cell_type": "code",
   "execution_count": 71,
   "metadata": {},
   "outputs": [
    {
     "ename": "UndefVarError",
     "evalue": "UndefVarError: Pkg not defined",
     "output_type": "error",
     "traceback": [
      "UndefVarError: Pkg not defined",
      "",
      "Stacktrace:",
      " [1] top-level scope at In[71]:1"
     ]
    }
   ],
   "source": [
    "# Temporarily uncomment these if you need something installed for usage.\n",
    "#using Pkg\n",
    "#Pkg.add(\"CSV\")\n",
    "#Pkg.add(\"DataFrames\")\n",
    "#Pkg.add(\"CPUTime\")\n",
    "#Pkg.clone(\"https://github.com/schmrlng/CPUTime.jl.git\")\n",
    "#Pkg.add(\"ProfileView\")\n",
    "#Pkg.add(\"Profile\")\n",
    "#Pkg.add(\"Dates\")\n",
    "#Pkg.add(\"Plots\")\n",
    "#Pkg.update()\n",
    "println(\"Starting location: $(Base.source_dir())\")"
   ]
  },
  {
   "cell_type": "code",
   "execution_count": 61,
   "metadata": {},
   "outputs": [
    {
     "name": "stdout",
     "output_type": "stream",
     "text": [
      "Record Count: 5389\n"
     ]
    },
    {
     "data": {
      "text/html": [
       "<p>DataFrameRow (14 columns)</p><table class=\"data-frame\"><thead><tr><th></th><th>id</th><th>name</th><th>date</th><th>manner_of_death</th><th>armed</th><th>age</th><th>gender</th><th>race</th></tr><tr><th></th><th>Int64</th><th>String</th><th>Date</th><th>String</th><th>String?</th><th>Int64?</th><th>String?</th><th>String?</th></tr></thead><tbody><tr><th>1</th><td>3</td><td>Tim Elliot</td><td>2015-01-02</td><td>shot</td><td>gun</td><td>53</td><td>M</td><td>A</td></tr></tbody></table>"
      ],
      "text/latex": [
       "\\begin{tabular}{r|ccccccccc}\n",
       "\t& id & name & date & manner\\_of\\_death & armed & age & gender & race & \\\\\n",
       "\t\\hline\n",
       "\t& Int64 & String & Date & String & String? & Int64? & String? & String? & \\\\\n",
       "\t\\hline\n",
       "\t1 & 3 & Tim Elliot & 2015-01-02 & shot & gun & 53 & M & A & $\\dots$ \\\\\n",
       "\\end{tabular}\n"
      ],
      "text/plain": [
       "DataFrameRow. Omitted printing of 8 columns\n",
       "│ Row │ id    │ name       │ date       │ manner_of_death │ armed   │ age    │\n",
       "│     │ \u001b[90mInt64\u001b[39m │ \u001b[90mString\u001b[39m     │ \u001b[90mDate\u001b[39m       │ \u001b[90mString\u001b[39m          │ \u001b[90mString?\u001b[39m │ \u001b[90mInt64?\u001b[39m │\n",
       "├─────┼───────┼────────────┼────────────┼─────────────────┼─────────┼────────┤\n",
       "│ 1   │ 3     │ Tim Elliot │ 2015-01-02 │ shot            │ gun     │ 53     │"
      ]
     },
     "execution_count": 61,
     "metadata": {},
     "output_type": "execute_result"
    }
   ],
   "source": [
    "#using Dates, CSV, DataFrames, CPUTime, ProfileView, Profile;\n",
    "using Dates, DataFrames;\n",
    "\n",
    "dfmt = dateformat\"yyyy-mm-dd\"\n",
    "\n",
    "df = convert(DataFrame, CSV.read(\"$(Base.source_dir())/../data/fatal-police-shootings-copy-06-05-2015.csv\", \n",
    "        dateformat=dfmt, copycols=true))\n",
    "\n",
    "print(\"Record Count: \")\n",
    "println(nrow(df))\n",
    "first(df) # just to verify it works"
   ]
  },
  {
   "cell_type": "code",
   "execution_count": 69,
   "metadata": {},
   "outputs": [
    {
     "name": "stdout",
     "output_type": "stream",
     "text": [
      "elapsed CPU time: 0.165545 seconds\n",
      "  0.166155 seconds (143.84 k allocations: 7.732 MiB)\n"
     ]
    },
    {
     "data": {
      "text/html": [
       "<table class=\"data-frame\"><thead><tr><th></th><th>id</th><th>name</th><th>date</th><th>manner_of_death</th><th>armed</th><th>age</th><th>gender</th></tr><tr><th></th><th>Int64</th><th>String</th><th>Date</th><th>String</th><th>String?</th><th>Int64?</th><th>String?</th></tr></thead><tbody><p>10 rows × 14 columns (omitted printing of 7 columns)</p><tr><th>1</th><td>980</td><td>Jeremy Mardis</td><td>2015-11-03</td><td>shot</td><td>unarmed</td><td>6</td><td>M</td></tr><tr><th>2</th><td>3229</td><td>Kameron Prescott</td><td>2017-12-21</td><td>shot</td><td>unarmed</td><td>6</td><td>M</td></tr><tr><th>3</th><td>1165</td><td>Ciara Meyer</td><td>2016-01-11</td><td>shot</td><td>unarmed</td><td>12</td><td>F</td></tr><tr><th>4</th><td>1883</td><td>Tyre King</td><td>2016-09-14</td><td>shot</td><td>toy weapon</td><td>13</td><td>M</td></tr><tr><th>5</th><td>1776</td><td>Jesse James Romero</td><td>2016-08-09</td><td>shot</td><td>gun</td><td>14</td><td>M</td></tr><tr><th>6</th><td>3117</td><td>Jason Ike Pero</td><td>2017-11-08</td><td>shot</td><td>knife</td><td>14</td><td>M</td></tr><tr><th>7</th><td>4386</td><td>Antonio Arce</td><td>2019-01-15</td><td>shot</td><td>toy weapon</td><td>14</td><td>M</td></tr><tr><th>8</th><td>2950</td><td>Ruben Urbina</td><td>2017-09-15</td><td>shot</td><td>crowbar</td><td>15</td><td>M</td></tr><tr><th>9</th><td>551</td><td>Zane Terryn</td><td>2015-06-14</td><td>shot</td><td>gun</td><td>15</td><td>M</td></tr><tr><th>10</th><td>916</td><td>Jorge Santiago Tapia</td><td>2015-10-15</td><td>shot</td><td>gun</td><td>15</td><td>M</td></tr></tbody></table>"
      ],
      "text/latex": [
       "\\begin{tabular}{r|cccccccc}\n",
       "\t& id & name & date & manner\\_of\\_death & armed & age & gender & \\\\\n",
       "\t\\hline\n",
       "\t& Int64 & String & Date & String & String? & Int64? & String? & \\\\\n",
       "\t\\hline\n",
       "\t1 & 980 & Jeremy Mardis & 2015-11-03 & shot & unarmed & 6 & M & $\\dots$ \\\\\n",
       "\t2 & 3229 & Kameron Prescott & 2017-12-21 & shot & unarmed & 6 & M & $\\dots$ \\\\\n",
       "\t3 & 1165 & Ciara Meyer & 2016-01-11 & shot & unarmed & 12 & F & $\\dots$ \\\\\n",
       "\t4 & 1883 & Tyre King & 2016-09-14 & shot & toy weapon & 13 & M & $\\dots$ \\\\\n",
       "\t5 & 1776 & Jesse James Romero & 2016-08-09 & shot & gun & 14 & M & $\\dots$ \\\\\n",
       "\t6 & 3117 & Jason Ike Pero & 2017-11-08 & shot & knife & 14 & M & $\\dots$ \\\\\n",
       "\t7 & 4386 & Antonio Arce & 2019-01-15 & shot & toy weapon & 14 & M & $\\dots$ \\\\\n",
       "\t8 & 2950 & Ruben Urbina & 2017-09-15 & shot & crowbar & 15 & M & $\\dots$ \\\\\n",
       "\t9 & 551 & Zane Terryn & 2015-06-14 & shot & gun & 15 & M & $\\dots$ \\\\\n",
       "\t10 & 916 & Jorge Santiago Tapia & 2015-10-15 & shot & gun & 15 & M & $\\dots$ \\\\\n",
       "\\end{tabular}\n"
      ],
      "text/plain": [
       "10×14 DataFrame. Omitted printing of 10 columns\n",
       "│ Row │ id    │ name                 │ date       │ manner_of_death │\n",
       "│     │ \u001b[90mInt64\u001b[39m │ \u001b[90mString\u001b[39m               │ \u001b[90mDate\u001b[39m       │ \u001b[90mString\u001b[39m          │\n",
       "├─────┼───────┼──────────────────────┼────────────┼─────────────────┤\n",
       "│ 1   │ 980   │ Jeremy Mardis        │ 2015-11-03 │ shot            │\n",
       "│ 2   │ 3229  │ Kameron Prescott     │ 2017-12-21 │ shot            │\n",
       "│ 3   │ 1165  │ Ciara Meyer          │ 2016-01-11 │ shot            │\n",
       "│ 4   │ 1883  │ Tyre King            │ 2016-09-14 │ shot            │\n",
       "│ 5   │ 1776  │ Jesse James Romero   │ 2016-08-09 │ shot            │\n",
       "│ 6   │ 3117  │ Jason Ike Pero       │ 2017-11-08 │ shot            │\n",
       "│ 7   │ 4386  │ Antonio Arce         │ 2019-01-15 │ shot            │\n",
       "│ 8   │ 2950  │ Ruben Urbina         │ 2017-09-15 │ shot            │\n",
       "│ 9   │ 551   │ Zane Terryn          │ 2015-06-14 │ shot            │\n",
       "│ 10  │ 916   │ Jorge Santiago Tapia │ 2015-10-15 │ shot            │"
      ]
     },
     "execution_count": 69,
     "metadata": {},
     "output_type": "execute_result"
    }
   ],
   "source": [
    "#Columns - :id, :name, :date, :manner_of_death, :armed, :age, :gender, :race, :city, \n",
    "# :state, :signs_of_mental_illness, :threat_level, :flee, :body_camera\n",
    "df = df[:, filter(x -> x != :Id, names(df))] \n",
    "\n",
    "function sort_data()\n",
    "  return sort!(df, 6) # sort by age\n",
    "end\n",
    "\n",
    "@time @CPUtime df = sort_data()\n",
    "\n",
    "first(df, 10)"
   ]
  },
  {
   "cell_type": "code",
   "execution_count": null,
   "metadata": {},
   "outputs": [
    {
     "name": "stderr",
     "output_type": "stream",
     "text": [
      "\u001b[32m\u001b[1m   Updating\u001b[22m\u001b[39m registry at `/opt/julia/registries/General`\n"
     ]
    },
    {
     "name": "stdout",
     "output_type": "stream",
     "text": [
      "\u001b[?25l    "
     ]
    },
    {
     "name": "stderr",
     "output_type": "stream",
     "text": [
      "\u001b[32m\u001b[1m   Updating\u001b[22m\u001b[39m git-repo `https://github.com/JuliaRegistries/General.git`\n"
     ]
    },
    {
     "name": "stdout",
     "output_type": "stream",
     "text": [
      "\u001b[36m\u001b[1mFetching:\u001b[22m\u001b[39m [>                                        ]  0.0 %\r",
      "    \u001b[36m\u001b[1mFetching:\u001b[22m\u001b[39m [========>                                ]  20.0 %\r",
      "    \u001b[36m\u001b[1mFetching:\u001b[22m\u001b[39m [================>                        ]  40.0 %\r",
      "    \u001b[36m\u001b[1mFetching:\u001b[22m\u001b[39m [========================>                ]  60.0 %\r",
      "    \u001b[36m\u001b[1mFetching:\u001b[22m\u001b[39m [================================>        ]  80.0 %\r",
      "    \u001b[36m\u001b[1mFetching:\u001b[22m\u001b[39m [========================================>]  100.0 %\r",
      "\u001b[2K\u001b[?25h"
     ]
    },
    {
     "name": "stderr",
     "output_type": "stream",
     "text": [
      "\u001b[32m\u001b[1m  Resolving\u001b[22m\u001b[39m package versions...\n",
      "\u001b[32m\u001b[1m  Installed\u001b[22m\u001b[39m x264_jll ──────── v2019.5.25+2\n",
      "\u001b[32m\u001b[1m  Installed\u001b[22m\u001b[39m Showoff ───────── v0.3.1\n",
      "\u001b[32m\u001b[1m  Installed\u001b[22m\u001b[39m Requires ──────── v1.0.1\n",
      "\u001b[32m\u001b[1m  Installed\u001b[22m\u001b[39m Ogg_jll ───────── v1.3.4+0\n",
      "\u001b[32m\u001b[1m  Installed\u001b[22m\u001b[39m Plots ─────────── v1.3.7\n",
      "\u001b[32m\u001b[1m  Installed\u001b[22m\u001b[39m StatsBase ─────── v0.33.0\n",
      "\u001b[32m\u001b[1m  Installed\u001b[22m\u001b[39m StaticArrays ──── v0.12.3\n",
      "\u001b[32m\u001b[1m  Installed\u001b[22m\u001b[39m OpenSSL_jll ───── v1.1.1+2\n",
      "\u001b[32m\u001b[1m  Installed\u001b[22m\u001b[39m FFMPEG_jll ────── v4.1.0+3\n",
      "\u001b[32m\u001b[1m  Installed\u001b[22m\u001b[39m libass_jll ────── v0.14.0+2\n",
      "\u001b[32m\u001b[1m  Installed\u001b[22m\u001b[39m LibVPX_jll ────── v1.8.1+1\n",
      "\u001b[32m\u001b[1m  Installed\u001b[22m\u001b[39m Measures ──────── v0.3.1\n",
      "\u001b[32m\u001b[1m  Installed\u001b[22m\u001b[39m PlotThemes ────── v2.0.0\n",
      "\u001b[32m\u001b[1m  Installed\u001b[22m\u001b[39m ColorSchemes ──── v3.9.0\n",
      "\u001b[32m\u001b[1m  Installed\u001b[22m\u001b[39m RecipesBase ───── v1.0.1\n",
      "\u001b[32m\u001b[1m  Installed\u001b[22m\u001b[39m HTTP ──────────── v0.8.15\n",
      "\u001b[32m\u001b[1m  Installed\u001b[22m\u001b[39m libvorbis_jll ─── v1.3.6+4\n",
      "\u001b[32m\u001b[1m  Installed\u001b[22m\u001b[39m Opus_jll ──────── v1.3.1+1\n",
      "\u001b[32m\u001b[1m  Installed\u001b[22m\u001b[39m libfdk_aac_jll ── v0.1.6+2\n",
      "\u001b[32m\u001b[1m  Installed\u001b[22m\u001b[39m PlotUtils ─────── v1.0.4\n",
      "\u001b[32m\u001b[1m  Installed\u001b[22m\u001b[39m RecipesPipeline ─ v0.1.10\n",
      "\u001b[32m\u001b[1m  Installed\u001b[22m\u001b[39m IniFile ───────── v0.5.0\n",
      "\u001b[32m\u001b[1m  Installed\u001b[22m\u001b[39m FFMPEG ────────── v0.3.0\n",
      "\u001b[32m\u001b[1m  Installed\u001b[22m\u001b[39m Contour ───────── v0.5.3\n",
      "\u001b[32m\u001b[1m  Installed\u001b[22m\u001b[39m LAME_jll ──────── v3.100.0+1\n",
      "\u001b[32m\u001b[1m  Installed\u001b[22m\u001b[39m x265_jll ──────── v3.0.0+1\n",
      "\u001b[32m\u001b[1m  Installed\u001b[22m\u001b[39m GeometryTypes ─── v0.8.3\n",
      "\u001b[32m\u001b[1m  Installed\u001b[22m\u001b[39m GR ────────────── v0.50.1\n",
      "######################################################################### 100.0%##O#- #                                                                        \n",
      "######################################################################### 100.0%##O#- #                                                                        \n",
      "######################################################################### 100.0%##O#- #                                                                        \n",
      "######################################################################### 100.0%##O=#  #                                                                       \n",
      "######################################################################### 100.0%##O=#  #                                                                                                         6.9%\n",
      "######################################################################### 100.0%##O#- #                                                                        \n",
      "######################################################################### 100.0%##O#- #                                                                        \n",
      "######################################################################### 100.0%##O=#  #                                                                       \n",
      "######################################################################### 100.0%##O=#  #                                                                       \n",
      "######################################################################### 100.0%##O=#  #                                                                       \n",
      "######################################################################### 100.0%##O#- #                                                                        \n"
     ]
    }
   ],
   "source": [
    "using Pkg\n",
    "Pkg.add(\"Plots\")\n",
    "using Plots\n",
    "\n",
    "labels = [\"Id\" \"Name\" \"Date\" \"Manner Of Death\", \"Armed\", \"Age\", \"Gender\"]\n",
    "\n",
    "plot(\n",
    "    xs,\n",
    "    df,\n",
    "    label = labels,\n",
    "    shape = markershapes,\n",
    "    color = markercolors,\n",
    "    markersize = 10\n",
    ")\n",
    "\n"
   ]
  },
  {
   "cell_type": "code",
   "execution_count": null,
   "metadata": {},
   "outputs": [],
   "source": []
  }
 ],
 "metadata": {
  "kernelspec": {
   "display_name": "Julia 1.4.1",
   "language": "julia",
   "name": "julia-1.4"
  },
  "language_info": {
   "file_extension": ".jl",
   "mimetype": "application/julia",
   "name": "julia",
   "version": "1.4.1"
  }
 },
 "nbformat": 4,
 "nbformat_minor": 2
}
