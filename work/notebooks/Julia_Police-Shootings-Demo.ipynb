{
 "cells": [
  {
   "cell_type": "code",
   "execution_count": 1,
   "metadata": {},
   "outputs": [
    {
     "name": "stdout",
     "output_type": "stream",
     "text": [
      "Hello\n",
      "/home/jovyan"
     ]
    }
   ],
   "source": [
    "println(\"Hello\")\n",
    "print(\"$(homedir())\")"
   ]
  },
  {
   "cell_type": "code",
   "execution_count": 18,
   "metadata": {},
   "outputs": [
    {
     "name": "stderr",
     "output_type": "stream",
     "text": [
      "\u001b[32m\u001b[1m  Resolving\u001b[22m\u001b[39m package versions...\n",
      "\u001b[32m\u001b[1m   Updating\u001b[22m\u001b[39m `/opt/julia/environments/v1.4/Project.toml`\n",
      "\u001b[90m [no changes]\u001b[39m\n",
      "\u001b[32m\u001b[1m   Updating\u001b[22m\u001b[39m `/opt/julia/environments/v1.4/Manifest.toml`\n",
      "\u001b[90m [no changes]\u001b[39m\n",
      "\u001b[32m\u001b[1m   Updating\u001b[22m\u001b[39m registry at `/opt/julia/registries/General`\n"
     ]
    },
    {
     "name": "stdout",
     "output_type": "stream",
     "text": [
      "\u001b[?25l\u001b[2K"
     ]
    },
    {
     "name": "stderr",
     "output_type": "stream",
     "text": [
      "\u001b[32m\u001b[1m   Updating\u001b[22m\u001b[39m git-repo `https://github.com/JuliaRegistries/General.git`\n"
     ]
    },
    {
     "name": "stdout",
     "output_type": "stream",
     "text": [
      "\u001b[?25hStarting location: /home/jovyan/work/notebooks\n"
     ]
    },
    {
     "name": "stderr",
     "output_type": "stream",
     "text": [
      "\u001b[32m\u001b[1m   Updating\u001b[22m\u001b[39m `/opt/julia/environments/v1.4/Project.toml`\n",
      "\u001b[90m [no changes]\u001b[39m\n",
      "\u001b[32m\u001b[1m   Updating\u001b[22m\u001b[39m `/opt/julia/environments/v1.4/Manifest.toml`\n",
      "\u001b[90m [no changes]\u001b[39m\n"
     ]
    }
   ],
   "source": [
    "# Temporarily uncomment these if you need something installed for usage.\n",
    "using Pkg\n",
    "Pkg.add(\"CSV\")\n",
    "#Pkg.add(\"DataFrames\")\n",
    "#Pkg.add(\"CPUTime\")\n",
    "#Pkg.clone(\"https://github.com/schmrlng/CPUTime.jl.git\")\n",
    "#Pkg.add(\"ProfileView\")\n",
    "#Pkg.add(\"Profile\")\n",
    "#Pkg.add(\"Dates\")\n",
    "#Pkg.add(\"Plots\")\n",
    "Pkg.update()\n",
    "println(\"Starting location: $(Base.source_dir())\")\n",
    "# after running this section, wait a bit to see if something starts installing"
   ]
  },
  {
   "cell_type": "code",
   "execution_count": 20,
   "metadata": {},
   "outputs": [
    {
     "name": "stdout",
     "output_type": "stream",
     "text": [
      "Record Count: 5389\n"
     ]
    },
    {
     "data": {
      "text/html": [
       "<p>DataFrameRow (14 columns)</p><table class=\"data-frame\"><thead><tr><th></th><th>id</th><th>name</th><th>date</th><th>manner_of_death</th><th>armed</th><th>age</th><th>gender</th><th>race</th></tr><tr><th></th><th>Int64</th><th>String</th><th>Date</th><th>String</th><th>String?</th><th>Int64?</th><th>String?</th><th>String?</th></tr></thead><tbody><tr><th>1</th><td>3</td><td>Tim Elliot</td><td>2015-01-02</td><td>shot</td><td>gun</td><td>53</td><td>M</td><td>A</td></tr></tbody></table>"
      ],
      "text/latex": [
       "\\begin{tabular}{r|ccccccccc}\n",
       "\t& id & name & date & manner\\_of\\_death & armed & age & gender & race & \\\\\n",
       "\t\\hline\n",
       "\t& Int64 & String & Date & String & String? & Int64? & String? & String? & \\\\\n",
       "\t\\hline\n",
       "\t1 & 3 & Tim Elliot & 2015-01-02 & shot & gun & 53 & M & A & $\\dots$ \\\\\n",
       "\\end{tabular}\n"
      ],
      "text/plain": [
       "DataFrameRow. Omitted printing of 8 columns\n",
       "│ Row │ id    │ name       │ date       │ manner_of_death │ armed   │ age    │\n",
       "│     │ \u001b[90mInt64\u001b[39m │ \u001b[90mString\u001b[39m     │ \u001b[90mDate\u001b[39m       │ \u001b[90mString\u001b[39m          │ \u001b[90mString?\u001b[39m │ \u001b[90mInt64?\u001b[39m │\n",
       "├─────┼───────┼────────────┼────────────┼─────────────────┼─────────┼────────┤\n",
       "│ 1   │ 3     │ Tim Elliot │ 2015-01-02 │ shot            │ gun     │ 53     │"
      ]
     },
     "execution_count": 20,
     "metadata": {},
     "output_type": "execute_result"
    }
   ],
   "source": [
    "#using Dates, CSV, DataFrames, CPUTime, ProfileView, Profile;\n",
    "using Dates, DataFrames, CSV;\n",
    "\n",
    "#methods(DataFrames.readtable!)\n",
    "\n",
    "dfmt = dateformat\"yyyy-mm-dd\"\n",
    "\n",
    "# To get mutable columns, you can do CSV.read(file; copycols=true)\n",
    "df = convert(DataFrame, CSV.read(\"$(homedir())/work/data/shootings.csv\", dateformat=dfmt))\n",
    "#dataFile = readdlm(\"$(homedir())/work/data/shootings.csv\", ',', header=true)\n",
    "#df = readtable(\"$(homedir())/work/data/shootings.csv\", header=true)\n",
    "\n",
    "print(\"Record Count: \")\n",
    "println(nrow(df))\n",
    "first(df) # just to verify it works, wait til you see this print a number"
   ]
  },
  {
   "cell_type": "code",
   "execution_count": 25,
   "metadata": {},
   "outputs": [
    {
     "name": "stdout",
     "output_type": "stream",
     "text": [
      "elapsed CPU time: 0.621106 seconds\n",
      "  0.720280 seconds (500.64 k allocations: 24.839 MiB, 3.09% gc time)\n"
     ]
    },
    {
     "data": {
      "text/html": [
       "<table class=\"data-frame\"><thead><tr><th></th><th>id</th><th>name</th><th>date</th><th>manner_of_death</th><th>armed</th></tr><tr><th></th><th>Int64</th><th>String</th><th>Date</th><th>String</th><th>String?</th></tr></thead><tbody><p>16 rows × 14 columns (omitted printing of 9 columns)</p><tr><th>1</th><td>3</td><td>Tim Elliot</td><td>2015-01-02</td><td>shot</td><td>gun</td></tr><tr><th>2</th><td>4</td><td>Lewis Lee Lembke</td><td>2015-01-02</td><td>shot</td><td>gun</td></tr><tr><th>3</th><td>5</td><td>John Paul Quintero</td><td>2015-01-03</td><td>shot and Tasered</td><td>unarmed</td></tr><tr><th>4</th><td>8</td><td>Matthew Hoffman</td><td>2015-01-04</td><td>shot</td><td>toy weapon</td></tr><tr><th>5</th><td>9</td><td>Michael Rodriguez</td><td>2015-01-04</td><td>shot</td><td>nail gun</td></tr><tr><th>6</th><td>11</td><td>Kenneth Joe Brown</td><td>2015-01-04</td><td>shot</td><td>gun</td></tr><tr><th>7</th><td>13</td><td>Kenneth Arnold Buck</td><td>2015-01-05</td><td>shot</td><td>gun</td></tr><tr><th>8</th><td>15</td><td>Brock Nichols</td><td>2015-01-06</td><td>shot</td><td>gun</td></tr><tr><th>9</th><td>16</td><td>Autumn Steele</td><td>2015-01-06</td><td>shot</td><td>unarmed</td></tr><tr><th>10</th><td>17</td><td>Leslie Sapp III</td><td>2015-01-06</td><td>shot</td><td>toy weapon</td></tr><tr><th>11</th><td>19</td><td>Patrick Wetter</td><td>2015-01-06</td><td>shot and Tasered</td><td>knife</td></tr><tr><th>12</th><td>21</td><td>Ron Sneed</td><td>2015-01-07</td><td>shot</td><td>gun</td></tr><tr><th>13</th><td>22</td><td>Hashim Hanif Ibn Abdul-Rasheed</td><td>2015-01-07</td><td>shot</td><td>knife</td></tr><tr><th>14</th><td>25</td><td>Nicholas Ryan Brickman</td><td>2015-01-07</td><td>shot</td><td>gun</td></tr><tr><th>15</th><td>27</td><td>Omarr Julian Maximillian Jackson</td><td>2015-01-07</td><td>shot</td><td>gun</td></tr><tr><th>16</th><td>29</td><td>Loren Simpson</td><td>2015-01-08</td><td>shot</td><td><em>missing</em></td></tr></tbody></table>"
      ],
      "text/latex": [
       "\\begin{tabular}{r|cccccc}\n",
       "\t& id & name & date & manner\\_of\\_death & armed & \\\\\n",
       "\t\\hline\n",
       "\t& Int64 & String & Date & String & String? & \\\\\n",
       "\t\\hline\n",
       "\t1 & 3 & Tim Elliot & 2015-01-02 & shot & gun & $\\dots$ \\\\\n",
       "\t2 & 4 & Lewis Lee Lembke & 2015-01-02 & shot & gun & $\\dots$ \\\\\n",
       "\t3 & 5 & John Paul Quintero & 2015-01-03 & shot and Tasered & unarmed & $\\dots$ \\\\\n",
       "\t4 & 8 & Matthew Hoffman & 2015-01-04 & shot & toy weapon & $\\dots$ \\\\\n",
       "\t5 & 9 & Michael Rodriguez & 2015-01-04 & shot & nail gun & $\\dots$ \\\\\n",
       "\t6 & 11 & Kenneth Joe Brown & 2015-01-04 & shot & gun & $\\dots$ \\\\\n",
       "\t7 & 13 & Kenneth Arnold Buck & 2015-01-05 & shot & gun & $\\dots$ \\\\\n",
       "\t8 & 15 & Brock Nichols & 2015-01-06 & shot & gun & $\\dots$ \\\\\n",
       "\t9 & 16 & Autumn Steele & 2015-01-06 & shot & unarmed & $\\dots$ \\\\\n",
       "\t10 & 17 & Leslie Sapp III & 2015-01-06 & shot & toy weapon & $\\dots$ \\\\\n",
       "\t11 & 19 & Patrick Wetter & 2015-01-06 & shot and Tasered & knife & $\\dots$ \\\\\n",
       "\t12 & 21 & Ron Sneed & 2015-01-07 & shot & gun & $\\dots$ \\\\\n",
       "\t13 & 22 & Hashim Hanif Ibn Abdul-Rasheed & 2015-01-07 & shot & knife & $\\dots$ \\\\\n",
       "\t14 & 25 & Nicholas Ryan Brickman & 2015-01-07 & shot & gun & $\\dots$ \\\\\n",
       "\t15 & 27 & Omarr Julian Maximillian Jackson & 2015-01-07 & shot & gun & $\\dots$ \\\\\n",
       "\t16 & 29 & Loren Simpson & 2015-01-08 & shot & \\emph{missing} & $\\dots$ \\\\\n",
       "\\end{tabular}\n"
      ],
      "text/plain": [
       "16×14 DataFrame. Omitted printing of 11 columns\n",
       "│ Row │ id    │ name                             │ date       │\n",
       "│     │ \u001b[90mInt64\u001b[39m │ \u001b[90mString\u001b[39m                           │ \u001b[90mDate\u001b[39m       │\n",
       "├─────┼───────┼──────────────────────────────────┼────────────┤\n",
       "│ 1   │ 3     │ Tim Elliot                       │ 2015-01-02 │\n",
       "│ 2   │ 4     │ Lewis Lee Lembke                 │ 2015-01-02 │\n",
       "│ 3   │ 5     │ John Paul Quintero               │ 2015-01-03 │\n",
       "│ 4   │ 8     │ Matthew Hoffman                  │ 2015-01-04 │\n",
       "│ 5   │ 9     │ Michael Rodriguez                │ 2015-01-04 │\n",
       "│ 6   │ 11    │ Kenneth Joe Brown                │ 2015-01-04 │\n",
       "│ 7   │ 13    │ Kenneth Arnold Buck              │ 2015-01-05 │\n",
       "│ 8   │ 15    │ Brock Nichols                    │ 2015-01-06 │\n",
       "│ 9   │ 16    │ Autumn Steele                    │ 2015-01-06 │\n",
       "│ 10  │ 17    │ Leslie Sapp III                  │ 2015-01-06 │\n",
       "│ 11  │ 19    │ Patrick Wetter                   │ 2015-01-06 │\n",
       "│ 12  │ 21    │ Ron Sneed                        │ 2015-01-07 │\n",
       "│ 13  │ 22    │ Hashim Hanif Ibn Abdul-Rasheed   │ 2015-01-07 │\n",
       "│ 14  │ 25    │ Nicholas Ryan Brickman           │ 2015-01-07 │\n",
       "│ 15  │ 27    │ Omarr Julian Maximillian Jackson │ 2015-01-07 │\n",
       "│ 16  │ 29    │ Loren Simpson                    │ 2015-01-08 │"
      ]
     },
     "execution_count": 25,
     "metadata": {},
     "output_type": "execute_result"
    }
   ],
   "source": [
    "# Sort data\n",
    "using CPUTime\n",
    "\n",
    "function sort_data()\n",
    "  return sort(df, 3) # sort by age\n",
    "end\n",
    "\n",
    "@time @CPUtime df = sort_data()\n",
    "\n",
    "first(df, 16)"
   ]
  },
  {
   "cell_type": "code",
   "execution_count": 29,
   "metadata": {},
   "outputs": [
    {
     "data": {
      "text/html": [
       "<table class=\"data-frame\"><thead><tr><th></th><th>name</th><th>date</th><th>manner_of_death</th><th>armed</th><th>age</th></tr><tr><th></th><th>String</th><th>Date</th><th>String</th><th>String?</th><th>Int64?</th></tr></thead><tbody><p>5,389 rows × 13 columns (omitted printing of 8 columns)</p><tr><th>1</th><td>Tim Elliot</td><td>2015-01-02</td><td>shot</td><td>gun</td><td>53</td></tr><tr><th>2</th><td>Lewis Lee Lembke</td><td>2015-01-02</td><td>shot</td><td>gun</td><td>47</td></tr><tr><th>3</th><td>John Paul Quintero</td><td>2015-01-03</td><td>shot and Tasered</td><td>unarmed</td><td>23</td></tr><tr><th>4</th><td>Matthew Hoffman</td><td>2015-01-04</td><td>shot</td><td>toy weapon</td><td>32</td></tr><tr><th>5</th><td>Michael Rodriguez</td><td>2015-01-04</td><td>shot</td><td>nail gun</td><td>39</td></tr><tr><th>6</th><td>Kenneth Joe Brown</td><td>2015-01-04</td><td>shot</td><td>gun</td><td>18</td></tr><tr><th>7</th><td>Kenneth Arnold Buck</td><td>2015-01-05</td><td>shot</td><td>gun</td><td>22</td></tr><tr><th>8</th><td>Brock Nichols</td><td>2015-01-06</td><td>shot</td><td>gun</td><td>35</td></tr><tr><th>9</th><td>Autumn Steele</td><td>2015-01-06</td><td>shot</td><td>unarmed</td><td>34</td></tr><tr><th>10</th><td>Leslie Sapp III</td><td>2015-01-06</td><td>shot</td><td>toy weapon</td><td>47</td></tr><tr><th>11</th><td>Patrick Wetter</td><td>2015-01-06</td><td>shot and Tasered</td><td>knife</td><td>25</td></tr><tr><th>12</th><td>Ron Sneed</td><td>2015-01-07</td><td>shot</td><td>gun</td><td>31</td></tr><tr><th>13</th><td>Hashim Hanif Ibn Abdul-Rasheed</td><td>2015-01-07</td><td>shot</td><td>knife</td><td>41</td></tr><tr><th>14</th><td>Nicholas Ryan Brickman</td><td>2015-01-07</td><td>shot</td><td>gun</td><td>30</td></tr><tr><th>15</th><td>Omarr Julian Maximillian Jackson</td><td>2015-01-07</td><td>shot</td><td>gun</td><td>37</td></tr><tr><th>16</th><td>Loren Simpson</td><td>2015-01-08</td><td>shot</td><td><em>missing</em></td><td>28</td></tr><tr><th>17</th><td>James Dudley Barker</td><td>2015-01-08</td><td>shot</td><td>shovel</td><td>42</td></tr><tr><th>18</th><td>Artago Damon Howard</td><td>2015-01-08</td><td>shot</td><td>unarmed</td><td>36</td></tr><tr><th>19</th><td>Thomas Hamby</td><td>2015-01-08</td><td>shot</td><td>gun</td><td>49</td></tr><tr><th>20</th><td>Jimmy Foreman</td><td>2015-01-09</td><td>shot</td><td>gun</td><td>71</td></tr><tr><th>21</th><td>Andy Martinez</td><td>2015-01-09</td><td>shot</td><td>gun</td><td>33</td></tr><tr><th>22</th><td>Tommy Smith</td><td>2015-01-11</td><td>shot</td><td>gun</td><td>39</td></tr><tr><th>23</th><td>Brian  Barbosa</td><td>2015-01-11</td><td>shot</td><td>gun</td><td>23</td></tr><tr><th>24</th><td>Salvador Figueroa</td><td>2015-01-11</td><td>shot and Tasered</td><td>gun</td><td>29</td></tr><tr><th>25</th><td>John Edward O'Keefe</td><td>2015-01-13</td><td>shot</td><td>gun</td><td>34</td></tr><tr><th>26</th><td>Richard McClendon</td><td>2015-01-13</td><td>shot</td><td>knife</td><td>43</td></tr><tr><th>27</th><td>Marcus Golden</td><td>2015-01-14</td><td>shot</td><td><em>missing</em></td><td>24</td></tr><tr><th>28</th><td>Michael Goebel</td><td>2015-01-14</td><td>shot</td><td><em>missing</em></td><td>29</td></tr><tr><th>29</th><td>Mario Jordan</td><td>2015-01-14</td><td>shot</td><td>gun</td><td>34</td></tr><tr><th>30</th><td>Talbot Schroeder</td><td>2015-01-14</td><td>shot</td><td>knife</td><td>75</td></tr><tr><th>&vellip;</th><td>&vellip;</td><td>&vellip;</td><td>&vellip;</td><td>&vellip;</td><td>&vellip;</td></tr></tbody></table>"
      ],
      "text/latex": [
       "\\begin{tabular}{r|cccccc}\n",
       "\t& name & date & manner\\_of\\_death & armed & age & \\\\\n",
       "\t\\hline\n",
       "\t& String & Date & String & String? & Int64? & \\\\\n",
       "\t\\hline\n",
       "\t1 & Tim Elliot & 2015-01-02 & shot & gun & 53 & $\\dots$ \\\\\n",
       "\t2 & Lewis Lee Lembke & 2015-01-02 & shot & gun & 47 & $\\dots$ \\\\\n",
       "\t3 & John Paul Quintero & 2015-01-03 & shot and Tasered & unarmed & 23 & $\\dots$ \\\\\n",
       "\t4 & Matthew Hoffman & 2015-01-04 & shot & toy weapon & 32 & $\\dots$ \\\\\n",
       "\t5 & Michael Rodriguez & 2015-01-04 & shot & nail gun & 39 & $\\dots$ \\\\\n",
       "\t6 & Kenneth Joe Brown & 2015-01-04 & shot & gun & 18 & $\\dots$ \\\\\n",
       "\t7 & Kenneth Arnold Buck & 2015-01-05 & shot & gun & 22 & $\\dots$ \\\\\n",
       "\t8 & Brock Nichols & 2015-01-06 & shot & gun & 35 & $\\dots$ \\\\\n",
       "\t9 & Autumn Steele & 2015-01-06 & shot & unarmed & 34 & $\\dots$ \\\\\n",
       "\t10 & Leslie Sapp III & 2015-01-06 & shot & toy weapon & 47 & $\\dots$ \\\\\n",
       "\t11 & Patrick Wetter & 2015-01-06 & shot and Tasered & knife & 25 & $\\dots$ \\\\\n",
       "\t12 & Ron Sneed & 2015-01-07 & shot & gun & 31 & $\\dots$ \\\\\n",
       "\t13 & Hashim Hanif Ibn Abdul-Rasheed & 2015-01-07 & shot & knife & 41 & $\\dots$ \\\\\n",
       "\t14 & Nicholas Ryan Brickman & 2015-01-07 & shot & gun & 30 & $\\dots$ \\\\\n",
       "\t15 & Omarr Julian Maximillian Jackson & 2015-01-07 & shot & gun & 37 & $\\dots$ \\\\\n",
       "\t16 & Loren Simpson & 2015-01-08 & shot & \\emph{missing} & 28 & $\\dots$ \\\\\n",
       "\t17 & James Dudley Barker & 2015-01-08 & shot & shovel & 42 & $\\dots$ \\\\\n",
       "\t18 & Artago Damon Howard & 2015-01-08 & shot & unarmed & 36 & $\\dots$ \\\\\n",
       "\t19 & Thomas Hamby & 2015-01-08 & shot & gun & 49 & $\\dots$ \\\\\n",
       "\t20 & Jimmy Foreman & 2015-01-09 & shot & gun & 71 & $\\dots$ \\\\\n",
       "\t21 & Andy Martinez & 2015-01-09 & shot & gun & 33 & $\\dots$ \\\\\n",
       "\t22 & Tommy Smith & 2015-01-11 & shot & gun & 39 & $\\dots$ \\\\\n",
       "\t23 & Brian  Barbosa & 2015-01-11 & shot & gun & 23 & $\\dots$ \\\\\n",
       "\t24 & Salvador Figueroa & 2015-01-11 & shot and Tasered & gun & 29 & $\\dots$ \\\\\n",
       "\t25 & John Edward O'Keefe & 2015-01-13 & shot & gun & 34 & $\\dots$ \\\\\n",
       "\t26 & Richard McClendon & 2015-01-13 & shot & knife & 43 & $\\dots$ \\\\\n",
       "\t27 & Marcus Golden & 2015-01-14 & shot & \\emph{missing} & 24 & $\\dots$ \\\\\n",
       "\t28 & Michael Goebel & 2015-01-14 & shot & \\emph{missing} & 29 & $\\dots$ \\\\\n",
       "\t29 & Mario Jordan & 2015-01-14 & shot & gun & 34 & $\\dots$ \\\\\n",
       "\t30 & Talbot Schroeder & 2015-01-14 & shot & knife & 75 & $\\dots$ \\\\\n",
       "\t$\\dots$ & $\\dots$ & $\\dots$ & $\\dots$ & $\\dots$ & $\\dots$ &  \\\\\n",
       "\\end{tabular}\n"
      ],
      "text/plain": [
       "5389×13 DataFrame. Omitted printing of 9 columns\n",
       "│ Row  │ name                │ date       │ manner_of_death  │ armed        │\n",
       "│      │ \u001b[90mString\u001b[39m              │ \u001b[90mDate\u001b[39m       │ \u001b[90mString\u001b[39m           │ \u001b[90mString?\u001b[39m      │\n",
       "├──────┼─────────────────────┼────────────┼──────────────────┼──────────────┤\n",
       "│ 1    │ Tim Elliot          │ 2015-01-02 │ shot             │ gun          │\n",
       "│ 2    │ Lewis Lee Lembke    │ 2015-01-02 │ shot             │ gun          │\n",
       "│ 3    │ John Paul Quintero  │ 2015-01-03 │ shot and Tasered │ unarmed      │\n",
       "│ 4    │ Matthew Hoffman     │ 2015-01-04 │ shot             │ toy weapon   │\n",
       "│ 5    │ Michael Rodriguez   │ 2015-01-04 │ shot             │ nail gun     │\n",
       "│ 6    │ Kenneth Joe Brown   │ 2015-01-04 │ shot             │ gun          │\n",
       "│ 7    │ Kenneth Arnold Buck │ 2015-01-05 │ shot             │ gun          │\n",
       "│ 8    │ Brock Nichols       │ 2015-01-06 │ shot             │ gun          │\n",
       "│ 9    │ Autumn Steele       │ 2015-01-06 │ shot             │ unarmed      │\n",
       "│ 10   │ Leslie Sapp III     │ 2015-01-06 │ shot             │ toy weapon   │\n",
       "⋮\n",
       "│ 5379 │ TK TK               │ 2020-05-29 │ shot             │ gun          │\n",
       "│ 5380 │ TK TK               │ 2020-05-29 │ shot             │ knife        │\n",
       "│ 5381 │ Momodou Lamin Sisay │ 2020-05-29 │ shot             │ gun          │\n",
       "│ 5382 │ Jarvis Sullivan     │ 2020-05-29 │ shot             │ vehicle      │\n",
       "│ 5383 │ Derrick Thompson    │ 2020-05-30 │ shot             │ gun          │\n",
       "│ 5384 │ Israel Berry        │ 2020-05-31 │ shot             │ undetermined │\n",
       "│ 5385 │ TK TK               │ 2020-05-31 │ shot and Tasered │ gun          │\n",
       "│ 5386 │ David McAtee        │ 2020-06-01 │ shot             │ gun          │\n",
       "│ 5387 │ Jorge Gomez         │ 2020-06-01 │ shot             │ gun          │\n",
       "│ 5388 │ Ryan Emblem Moore   │ 2020-06-01 │ shot             │ \u001b[90mmissing\u001b[39m      │\n",
       "│ 5389 │ Robert James Lyon   │ 2020-06-02 │ shot             │ gun          │"
      ]
     },
     "execution_count": 29,
     "metadata": {},
     "output_type": "execute_result"
    }
   ],
   "source": [
    "# Reduce the Columns before graphing by removing :id\n",
    "\n",
    "#Possible columns - :id, :name, :date, :manner_of_death, :armed, :age, :gender, :race, :city, \n",
    "# :state, :signs_of_mental_illness, :threat_level, :flee, :body_camera\n",
    "df = df[:, filter(x -> x != :id, names(df))]\n",
    "df = df[:, [:name, :date, :manner_of_death, :armed, :age, :gender, :race, :city, :state, :signs_of_mental_illness, :threat_level, :flee, :body_camera]]\n"
   ]
  },
  {
   "cell_type": "code",
   "execution_count": 30,
   "metadata": {},
   "outputs": [
    {
     "name": "stderr",
     "output_type": "stream",
     "text": [
      "┌ Info: Precompiling Plots [91a5bcdd-55d7-5caf-9e0b-520d859cae80]\n",
      "└ @ Base loading.jl:1260\n"
     ]
    },
    {
     "ename": "LoadError",
     "evalue": "syntax: unexpected comma in matrix expression",
     "output_type": "error",
     "traceback": [
      "syntax: unexpected comma in matrix expression",
      ""
     ]
    }
   ],
   "source": [
    "#using Pkg\n",
    "#Pkg.add(\"Plots\")\n",
    "using Plots\n",
    "\n",
    "labels = [\"Name\" \"Date\" \"Manner Of Death\", \"Armed\", \"Age\", \"Gender\", \"Race\", \"City\", \"State\", \"Mental\", \"Threat\", \"Flee\"]\n",
    "\n",
    "plot(\n",
    "    xs,\n",
    "    df,\n",
    "    label = labels,\n",
    "    shape = markershapes,\n",
    "    color = markercolors,\n",
    "    markersize = 10\n",
    ")\n",
    "\n"
   ]
  },
  {
   "cell_type": "code",
   "execution_count": null,
   "metadata": {},
   "outputs": [],
   "source": []
  }
 ],
 "metadata": {
  "kernelspec": {
   "display_name": "Julia 1.4.1",
   "language": "julia",
   "name": "julia-1.4"
  },
  "language_info": {
   "file_extension": ".jl",
   "mimetype": "application/julia",
   "name": "julia",
   "version": "1.4.1"
  }
 },
 "nbformat": 4,
 "nbformat_minor": 2
}
