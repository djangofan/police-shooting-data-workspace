{
 "cells": [
  {
   "cell_type": "code",
   "execution_count": 4,
   "metadata": {},
   "outputs": [],
   "source": [
    "#  you may need to install these packages first by running these install commands\n",
    "#install.packages(\"zipcode\", repos = \"http://cran.us.r-project.org\")\n",
    "#install.packages(\"ggmap\", repos = \"http://cran.us.r-project.org\")\n",
    "#install.packages(\"plyr\", repos = \"http://cran.us.r-project.org\")\n",
    "#install.packages(\"effsize\", repos = \"http://cran.us.r-project.org\")\n",
    "#install.packages(\"ggthemes\", repos = \"http://cran.us.r-project.org\")\n",
    "#install.packages(\"deldir\", repos = \"http://cran.us.r-project.org\")\n",
    "#install.packages(\"ggplot2\", repos = \"http://cran.us.r-project.org\")\n",
    "#install.packages(\"tictoc\", repos = \"http://cran.us.r-project.org\")\n",
    "\n",
    "library(ggplot2)\n",
    "library(zipcode)\n",
    "library(plyr)\n",
    "library(effsize)\n",
    "library(tictoc)"
   ]
  },
  {
   "cell_type": "code",
   "execution_count": 5,
   "metadata": {},
   "outputs": [
    {
     "name": "stdout",
     "output_type": "stream",
     "text": [
      "[1] \"hello\"\n"
     ]
    }
   ],
   "source": [
    "print(\"hello\")"
   ]
  },
  {
   "cell_type": "code",
   "execution_count": 6,
   "metadata": {},
   "outputs": [
    {
     "name": "stdout",
     "output_type": "stream",
     "text": [
      "'data.frame':\t99999 obs. of  18 variables:\n",
      " $ VendorID             : int  2 1 1 1 1 2 1 2 2 2 ...\n",
      " $ tpep_pickup_datetime : Factor w/ 17958 levels \"2015-01-01 00:00:00\",..: 6044 6044 6045 6045 6047 6047 6047 6048 6049 6049 ...\n",
      " $ tpep_dropoff_datetime: Factor w/ 19975 levels \"2015-01-01 00:00:00\",..: 7582 7601 7838 8000 7411 7467 7616 7413 7816 8063 ...\n",
      " $ passenger_count      : int  1 3 1 1 1 1 1 1 3 1 ...\n",
      " $ trip_distance        : num  1.55 1.2 2.4 7.3 0.4 0.71 1.6 0.52 6.23 5.88 ...\n",
      " $ pickup_longitude     : num  -74 -74 -74 -74 -74 ...\n",
      " $ pickup_latitude      : num  40.7 40.7 40.8 40.7 40.8 ...\n",
      " $ RateCodeID           : int  1 1 1 1 1 1 1 1 1 5 ...\n",
      " $ store_and_fwd_flag   : Factor w/ 2 levels \"N\",\"Y\": 1 1 1 1 1 1 1 1 1 1 ...\n",
      " $ dropoff_longitude    : num  -74 -74 -74 -73.9 -74 ...\n",
      " $ dropoff_latitude     : num  40.7 40.7 40.8 40.8 40.8 ...\n",
      " $ payment_type         : int  2 2 2 2 2 2 1 1 1 1 ...\n",
      " $ fare_amount          : num  7.5 7 10.5 21.5 3.5 5 7.5 4 18.5 75 ...\n",
      " $ extra                : num  0.5 0.5 0.5 0.5 0.5 0.5 0.5 0.5 0.5 0 ...\n",
      " $ mta_tax              : num  0.5 0.5 0.5 0.5 0.5 0.5 0.5 0.5 0.5 0 ...\n",
      " $ tip_amount           : num  0 0 0 0 0 0 1.2 0.9 3.8 5 ...\n",
      " $ tolls_amount         : num  0 0 0 0 0 0 0 0 0 0 ...\n",
      " $ total_amount         : num  8.8 8.3 11.8 22.8 4.8 6.3 10 6.2 23.6 80.3 ...\n"
     ]
    }
   ],
   "source": [
    "trips = read.csv(\"../data/sample_100000.csv\")\n",
    "str(trips)"
   ]
  },
  {
   "cell_type": "code",
   "execution_count": 7,
   "metadata": {},
   "outputs": [],
   "source": [
    "prepare_data <- function(trips){\n",
    "        # convert dates into datetime format (POSIXct) to be able to process them conveniently\n",
    "        trips <- castDatetimesToLT(trips)\n",
    "        # vendor id could be 1 - Creative Mobile Technologies or 2 - Verifone, so it is a factor variable\n",
    "        trips$vendor_id <- as.factor(trips$VendorID)\n",
    "        # rate code is a factor variable (1= Standard rate, 2=JFK, 3=Newark, 4=Nassau or Westchester 5=Negotiated fare 6=Group ride)\n",
    "        trips$rate_code <- as.factor(trips$RateCodeID)\n",
    "        # payment type is a factor variable (1= Credit card, 2= Cash, 3= No charge, 4= Dispute, 5= Unknown 6= Voided trip)\n",
    "        trips$payment_type <- as.factor(trips$payment_type)\n",
    "        #add tip percentages\n",
    "        trips$tip_percentage <- 100*(trips$tip_amount / (trips$total_amount - trips$tip_amount))\n",
    "\n",
    "        trips\n",
    "}\n",
    "castDatetimesToLT <- function(trips){\n",
    "        trips$tpep_pickup_datetime <- as.POSIXlt(as.character(trips$tpep_pickup_datetime,format=\"%Y-%m-%dT%H:%M:%OS\"), \"EST\")\n",
    "        trips$tpep_dropoff_datetime <- as.POSIXlt(as.character(trips$tpep_dropoff_datetime,format=\"%Y-%m-%dT%H:%M:%OS\"), \"EST\")\n",
    "\n",
    "        trips\n",
    "}\n",
    "castDatetimesToCT <- function(trips){\n",
    "        trips$tpep_pickup_datetime <- as.POSIXct(trips$tpep_pickup_datetime)\n",
    "        trips$tpep_dropoff_datetime <- as.POSIXct(trips$tpep_dropoff_datetime)\n",
    "\n",
    "        trips\n",
    "}\n",
    "\n",
    "clean_data <- function(trips){\n",
    "        #NYC_coordinates <- geocode(\"Manhattan New York\")\n",
    "        #NYC_region <- c(NYC_coordinates[\"lat\"]-1,NYC_coordinates[\"lat\"]+1,NYC_coordinates[\"lon\"]-1,NYC_coordinates[\"lon\"]+1)\n",
    "        NYC_region <- c(-74.15,40.5,-73.65,41)\n",
    "        # remove records with longitudes which is not NYC (the limits are taken by hand looking at NYC Google Map)\n",
    "        trips <- trips[trips$pickup_longitude > NYC_region[1],]\n",
    "        trips <- trips[trips$pickup_longitude < NYC_region[3],]\n",
    "        # remove records with Latitudes which is not NYC (the limits are taken by hand looking at NYC Google Map)\n",
    "        trips <- trips[trips$dropoff_latitude > NYC_region[2],]\n",
    "        trips <- trips[trips$dropoff_latitude < NYC_region[4],]\n",
    "        # remove all trips where payment was done not via credit card, as only then we have the info about tips\n",
    "        trips <- trips[trips$payment_type == 1,]\n",
    "        # remove all trips where tip amount is 0 or negative (as we are interested in very high tips)\n",
    "        trips <- trips[trips$tip_amount > 0,]\n",
    "        # remove all trips where passenger count is 0\n",
    "        trips <- trips[trips$passenger_count > 0,]\n",
    "\n",
    "        trips\n",
    "}\n",
    "\n",
    "augment_data <- function(trips){\n",
    "        # augment data with the closest ZIPCODES\n",
    "        data(zipcode)\n",
    "        # collect a dataset with zipcodes from New York state\n",
    "        NYCzips <- subset(zipcode, state== \"NY\")\n",
    "        # we need to cast first datetimes first to another format to make sure we do not face problems with apply method\n",
    "        trips_ct <- castDatetimesToCT(trips)\n",
    "        # for each record in our trips dataset find a nearest ZIP code\n",
    "        trips$zipcode <- apply(trips_ct, 1, function(x){getZipCode(NYCzips,x['pickup_longitude'],x['pickup_latitude'],0.2)})\n",
    "        # make the zipcode column a categorical variable\n",
    "        trips$zipcode <- as.factor(trips$zipcode)\n",
    "\n",
    "        trips\n",
    "}\n",
    "\n",
    "getZipCode <- function(zips, lon, lat, step){\n",
    "        lat <- as.numeric(lat)\n",
    "        lon <- as.numeric(lon)\n",
    "        step <- as.numeric(step)\n",
    "        # define borders in which to search for nearest ZIP codes\n",
    "        area_borders <- c(lat-step, lat+step, lon-step, lon+step)\n",
    "        # filter the zip codes fitting the borders\n",
    "        local_zips <- zips[zips$latitude > area_borders[1] && zips$latitude< area_borders[2] && zips$longitude > area_borders[3] && zips$longitude < area_borders[4],]\n",
    "\n",
    "        if (nrow(local_zips) == 0){\n",
    "                if (step < 2){\n",
    "                        # if there are no ZIP codes in the borders, enlarge the borders and recursively repeat the operation\n",
    "                        r <- getZipCode(zips, lon, lat, step+0.2)\n",
    "                }else{\n",
    "                        # if step is already too big - just return NA\n",
    "                        r <- as.character(\"000000\")\n",
    "                }\n",
    "        }else{\n",
    "                # calculate the distances to the ZIP codes filtered\n",
    "                local_zips$distance = sqrt((local_zips$latitude-lat)^2 + (local_zips$longitude-lon)^2)\n",
    "                # sort the filtered ZIP codes according to the distance\n",
    "                local_zips = local_zips[order(local_zips$distance),]\n",
    "                # return the nearest ZIP code\n",
    "                r <- as.character(local_zips[1,\"zip\"])\n",
    "        }\n",
    "\n",
    "        r\n",
    "}\n",
    "\n",
    "group_data <- function(trips){\n",
    "        # we need to cast first datetimes first to another format to make sure we do not face problems with apply method\n",
    "        trips_ct <- castDatetimesToCT(trips)\n",
    "        # a workaround to calculate amount of records for each ZIP code\n",
    "        trips_ct$row_weight <- as.numeric(1)\n",
    "\n",
    "        # make a new dataset 'zones' by aggregating trips by ZIP codes\n",
    "        zones <- ddply(trips_ct, \"zipcode\", summarise,\n",
    "                lat = median(pickup_latitude),\n",
    "                lon = median(pickup_longitude),\n",
    "                amount = sum(row_weight),\n",
    "                tip_percentage.mean=mean(tip_percentage),\n",
    "                tip_percentage.median=median(tip_percentage),\n",
    "                tip_amount.mean=mean(tip_amount),\n",
    "                tip_amount.median=median(tip_amount)\n",
    "                )\n",
    "\n",
    "        # prepare and format columns\n",
    "\n",
    "        zones$tip_amount.mean_round <- round(zones$tip_amount.mean)\n",
    "        zones$tip_amount.mean_round <- as.factor(paste(zones$tip_amount.mean_round,\"$\",sep=\"\"))\n",
    "\n",
    "        zones$tip_amount.median_round <- round(zones$tip_amount.median)\n",
    "        zones$tip_amount.median_round <- as.factor(paste(zones$tip_amount.median_round,\"$\",sep=\"\"))\n",
    "\n",
    "        zones$tip_percentage.median_round <- round(zones$tip_percentage.median)\n",
    "        zones$tip_percentage.median_round <- as.factor(paste(zones$tip_percentage.median_round,\"%\",sep=\"\"))\n",
    "\n",
    "        zones$tip_percentage.mean_round <- round(zones$tip_percentage.mean)\n",
    "        zones$tip_percentage.mean_round <- as.factor(paste(zones$tip_percentage.mean_round,\"%\",sep=\"\"))\n",
    "        # remove not representative zones\n",
    "        #zones<- zones[zones$amount > 500,]\n",
    "\n",
    "        zones\n",
    "}\n",
    "\n",
    "\n"
   ]
  },
  {
   "cell_type": "code",
   "execution_count": 8,
   "metadata": {},
   "outputs": [
    {
     "name": "stdout",
     "output_type": "stream",
     "text": [
      "'data.frame':\t99999 obs. of  21 variables:\n",
      " $ VendorID             : int  2 1 1 1 1 2 1 2 2 2 ...\n",
      " $ tpep_pickup_datetime : POSIXlt, format: \"2015-01-08 22:44:09\" \"2015-01-08 22:44:09\" ...\n",
      " $ tpep_dropoff_datetime: POSIXlt, format: \"2015-01-08 22:50:56\" \"2015-01-08 22:51:17\" ...\n",
      " $ passenger_count      : int  1 3 1 1 1 1 1 1 3 1 ...\n",
      " $ trip_distance        : num  1.55 1.2 2.4 7.3 0.4 0.71 1.6 0.52 6.23 5.88 ...\n",
      " $ pickup_longitude     : num  -74 -74 -74 -74 -74 ...\n",
      " $ pickup_latitude      : num  40.7 40.7 40.8 40.7 40.8 ...\n",
      " $ RateCodeID           : int  1 1 1 1 1 1 1 1 1 5 ...\n",
      " $ store_and_fwd_flag   : Factor w/ 2 levels \"N\",\"Y\": 1 1 1 1 1 1 1 1 1 1 ...\n",
      " $ dropoff_longitude    : num  -74 -74 -74 -73.9 -74 ...\n",
      " $ dropoff_latitude     : num  40.7 40.7 40.8 40.8 40.8 ...\n",
      " $ payment_type         : Factor w/ 4 levels \"1\",\"2\",\"3\",\"4\": 2 2 2 2 2 2 1 1 1 1 ...\n",
      " $ fare_amount          : num  7.5 7 10.5 21.5 3.5 5 7.5 4 18.5 75 ...\n",
      " $ extra                : num  0.5 0.5 0.5 0.5 0.5 0.5 0.5 0.5 0.5 0 ...\n",
      " $ mta_tax              : num  0.5 0.5 0.5 0.5 0.5 0.5 0.5 0.5 0.5 0 ...\n",
      " $ tip_amount           : num  0 0 0 0 0 0 1.2 0.9 3.8 5 ...\n",
      " $ tolls_amount         : num  0 0 0 0 0 0 0 0 0 0 ...\n",
      " $ total_amount         : num  8.8 8.3 11.8 22.8 4.8 6.3 10 6.2 23.6 80.3 ...\n",
      " $ vendor_id            : Factor w/ 2 levels \"1\",\"2\": 2 1 1 1 1 2 1 2 2 2 ...\n",
      " $ rate_code            : Factor w/ 7 levels \"1\",\"2\",\"3\",\"4\",..: 1 1 1 1 1 1 1 1 1 5 ...\n",
      " $ tip_percentage       : num  0 0 0 0 0 ...\n"
     ]
    }
   ],
   "source": [
    "trips_prepared <- prepare_data(trips)\n",
    "str(trips_prepared)"
   ]
  },
  {
   "cell_type": "code",
   "execution_count": 9,
   "metadata": {
    "scrolled": true
   },
   "outputs": [
    {
     "name": "stdout",
     "output_type": "stream",
     "text": [
      "'data.frame':\t54466 obs. of  21 variables:\n",
      " $ VendorID             : int  1 2 2 2 2 1 2 2 1 2 ...\n",
      " $ tpep_pickup_datetime : POSIXlt, format: \"2015-01-08 22:44:12\" \"2015-01-08 22:44:13\" ...\n",
      " $ tpep_dropoff_datetime: POSIXlt, format: \"2015-01-08 22:51:35\" \"2015-01-08 22:46:37\" ...\n",
      " $ passenger_count      : int  1 1 3 1 1 1 1 1 2 3 ...\n",
      " $ trip_distance        : num  1.6 0.52 6.23 5.88 3.48 1 4.85 1.11 1.6 1.17 ...\n",
      " $ pickup_longitude     : num  -74 -74 -74 -73.9 -74 ...\n",
      " $ pickup_latitude      : num  40.8 40.8 40.7 40.7 40.8 ...\n",
      " $ RateCodeID           : int  1 1 1 5 1 1 1 1 1 1 ...\n",
      " $ store_and_fwd_flag   : Factor w/ 2 levels \"N\",\"Y\": 1 1 1 1 1 1 1 1 1 1 ...\n",
      " $ dropoff_longitude    : num  -74 -74 -74 -73.9 -74 ...\n",
      " $ dropoff_latitude     : num  40.7 40.8 40.8 40.7 40.7 ...\n",
      " $ payment_type         : Factor w/ 4 levels \"1\",\"2\",\"3\",\"4\": 1 1 1 1 1 1 1 1 1 1 ...\n",
      " $ fare_amount          : num  7.5 4 18.5 75 15 5 19.5 6 9 5.5 ...\n",
      " $ extra                : num  0.5 0.5 0.5 0 0.5 0.5 0.5 0.5 0.5 0.5 ...\n",
      " $ mta_tax              : num  0.5 0.5 0.5 0 0.5 0.5 0.5 0.5 0.5 0.5 ...\n",
      " $ tip_amount           : num  1.2 0.9 3.8 5 3.1 3 4 1.3 2.06 1.2 ...\n",
      " $ tolls_amount         : num  0 0 0 0 0 0 0 0 0 0 ...\n",
      " $ total_amount         : num  10 6.2 23.6 80.3 19.4 ...\n",
      " $ vendor_id            : Factor w/ 2 levels \"1\",\"2\": 1 2 2 2 2 1 2 2 1 2 ...\n",
      " $ rate_code            : Factor w/ 7 levels \"1\",\"2\",\"3\",\"4\",..: 1 1 1 5 1 1 1 1 1 1 ...\n",
      " $ tip_percentage       : num  13.64 16.98 19.19 6.64 19.02 ...\n"
     ]
    }
   ],
   "source": [
    "trips_cleaned <- clean_data(trips_prepared)\n",
    "str(trips_cleaned)"
   ]
  },
  {
   "cell_type": "code",
   "execution_count": 10,
   "metadata": {},
   "outputs": [
    {
     "data": {
      "text/html": [
       "<table>\n",
       "<thead><tr><th scope=col>payment_type</th><th scope=col>Rate1</th></tr></thead>\n",
       "<tbody>\n",
       "\t<tr><td>1      </td><td>2.81993</td></tr>\n",
       "</tbody>\n",
       "</table>\n"
      ],
      "text/latex": [
       "\\begin{tabular}{r|ll}\n",
       " payment\\_type & Rate1\\\\\n",
       "\\hline\n",
       "\t 1       & 2.81993\\\\\n",
       "\\end{tabular}\n"
      ],
      "text/markdown": [
       "\n",
       "payment_type | Rate1 | \n",
       "|---|\n",
       "| 1       | 2.81993 | \n",
       "\n",
       "\n"
      ],
      "text/plain": [
       "  payment_type Rate1  \n",
       "1 1            2.81993"
      ]
     },
     "metadata": {},
     "output_type": "display_data"
    },
    {
     "name": "stdout",
     "output_type": "stream",
     "text": [
      "0.133 sec elapsed\n"
     ]
    }
   ],
   "source": [
    "#install.packages(\"tictoc\")\n",
    "library(tictoc)\n",
    "tic()\n",
    "ddply(trips_cleaned, .(payment_type), summarize,  Rate1=mean(tip_amount))\n",
    "toc()"
   ]
  },
  {
   "cell_type": "code",
   "execution_count": 11,
   "metadata": {},
   "outputs": [
    {
     "data": {
      "text/html": [
       "<dl class=dl-horizontal>\n",
       "\t<dt>95%</dt>\n",
       "\t\t<dd>29.4117647058823</dd>\n",
       "\t<dt>99%</dt>\n",
       "\t\t<dd>41.6666666666667</dd>\n",
       "\t<dt>99.9%</dt>\n",
       "\t\t<dd>128.205128205128</dd>\n",
       "</dl>\n"
      ],
      "text/latex": [
       "\\begin{description*}\n",
       "\\item[95\\textbackslash{}\\%] 29.4117647058823\n",
       "\\item[99\\textbackslash{}\\%] 41.6666666666667\n",
       "\\item[99.9\\textbackslash{}\\%] 128.205128205128\n",
       "\\end{description*}\n"
      ],
      "text/markdown": [
       "95%\n",
       ":   29.411764705882399%\n",
       ":   41.666666666666799.9%\n",
       ":   128.205128205128\n",
       "\n"
      ],
      "text/plain": [
       "      95%       99%     99.9% \n",
       " 29.41176  41.66667 128.20513 "
      ]
     },
     "metadata": {},
     "output_type": "display_data"
    }
   ],
   "source": [
    "quantile(trips_cleaned$tip_percentage,c(0.95,0.99,0.999))"
   ]
  },
  {
   "cell_type": "code",
   "execution_count": 12,
   "metadata": {},
   "outputs": [
    {
     "data": {},
     "metadata": {},
     "output_type": "display_data"
    },
    {
     "data": {
      "image/png": "[encoded data removed]",
      "text/plain": [
       "plot without title"
      ]
     },
     "metadata": {},
     "output_type": "display_data"
    }
   ],
   "source": [
    "trips_cleaned <- trips_cleaned[trips_cleaned$tip_percentage<=100,]\n",
    "ggplot(data = trips_cleaned, aes(x = tip_percentage))+xlab(\"Tips, %\") + geom_histogram(binwidth = 1) + geom_vline(xintercept = c(20,25,30), col = \"red\",linetype = \"longdash\") + geom_vline(xintercept = c(13), col = \"blue\",linetype = \"longdash\")"
   ]
  },
  {
   "cell_type": "code",
   "execution_count": 13,
   "metadata": {},
   "outputs": [
    {
     "data": {
      "image/png": "[encoded data removed]",
      "text/plain": [
       "plot without title"
      ]
     },
     "metadata": {},
     "output_type": "display_data"
    }
   ],
   "source": [
    "plot(as.factor(trips_cleaned$tpep_pickup_datetime$hour), trips_cleaned$tip_percentage, xlab = \"hour\", ylab=\"Tips, %\")"
   ]
  },
  {
   "cell_type": "code",
   "execution_count": null,
   "metadata": {},
   "outputs": [],
   "source": [
    "trips_short_zip <- augment_data(trips_cleaned)\n",
    "zones <- group_data(trips_short_zip)\n",
    "str(zones)"
   ]
  },
  {
   "cell_type": "code",
   "execution_count": null,
   "metadata": {},
   "outputs": [],
   "source": [
    "zones <- zones[zones$amount >500,]\n",
    "\n",
    "WorldTradeCenter_10250 <- trips_short_zip[trips_short_zip$zipcode == \"10250\",]  \n",
    "LaGuardia_11371 <- trips_short_zip[trips_short_zip$zipcode == \"11371\",]\n",
    "TimesSquare_10036 <- trips_short_zip[trips_short_zip$zipcode == \"10036\",]\n",
    "JFK_11430 <- trips_short_zip[trips_short_zip$zipcode == \"11430\",]\n",
    "\n",
    "welch_test <- t.test(TimesSquare_10036$tip_percentage,WorldTradeCenter_10250$tip_percentage,alternative = \"greater\")\n",
    "welch_test$p.value"
   ]
  },
  {
   "cell_type": "code",
   "execution_count": null,
   "metadata": {},
   "outputs": [],
   "source": [
    "cohen_distance <- cohen.d(TimesSquare_10036$tip_percentage,WorldTradeCenter_10250$tip_percentage)\n",
    "cohen_distance$estimate"
   ]
  },
  {
   "cell_type": "code",
   "execution_count": null,
   "metadata": {},
   "outputs": [],
   "source": [
    "welch_test <- t.test(LaGuardia_11371$tip_percentage,JFK_11430$tip_percentage,alternative = \"greater\")\n",
    "welch_test$p.value"
   ]
  },
  {
   "cell_type": "code",
   "execution_count": null,
   "metadata": {},
   "outputs": [],
   "source": [
    "cohen_distance <- cohen.d(LaGuardia_11371$tip_percentage,JFK_11430$tip_percentage)\n",
    "cohen_distance$estimate"
   ]
  },
  {
   "cell_type": "code",
   "execution_count": null,
   "metadata": {},
   "outputs": [],
   "source": []
  }
 ],
 "metadata": {
  "kernelspec": {
   "display_name": "R",
   "language": "R",
   "name": "ir"
  },
  "language_info": {
   "codemirror_mode": "r",
   "file_extension": ".r",
   "mimetype": "text/x-r-source",
   "name": "R",
   "pygments_lexer": "r",
   "version": "3.4.1"
  }
 },
 "nbformat": 4,
 "nbformat_minor": 2
}
