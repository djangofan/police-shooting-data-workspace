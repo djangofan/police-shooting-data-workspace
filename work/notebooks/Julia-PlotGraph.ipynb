{
 "cells": [
  {
   "cell_type": "code",
   "execution_count": 13,
   "metadata": {},
   "outputs": [
    {
     "name": "stdout",
     "output_type": "stream",
     "text": [
      "done loading packages\n"
     ]
    }
   ],
   "source": [
    "# for the script below to work , you may need to install these packages\n",
    "#using Pkg\n",
    "#Pkg.add(\"CSV\")\n",
    "#Pkg.add(\"Dates\")\n",
    "#Pkg.add(\"DataFrames\")\n",
    "#Pkg.add(\"CPUTime\")\n",
    "#Pkg.add(\"PyCall\")\n",
    "#Pkg.add(\"LaTeXStrings\")\n",
    "#Pkg.add(\"Query\")\n",
    "#Pkg.add(\"PyPlot\")\n",
    "#Pkg.add(\"Plots\")\n",
    "#Pkg.add(\"PyCall\")\n",
    "#Pkg.add(\"Statistics\")\n",
    "println(\"done loading packages\")"
   ]
  },
  {
   "cell_type": "code",
   "execution_count": 1,
   "metadata": {
    "scrolled": false
   },
   "outputs": [
    {
     "name": "stdout",
     "output_type": "stream",
     "text": [
      "  1.261101 seconds (2.91 M allocations: 137.759 MiB, 5.34% gc time)\n",
      "  0.258849 seconds (793.57 k allocations: 20.054 MiB, 5.51% gc time)\n",
      "finished read\n",
      "  0.974976 seconds (2.29 M allocations: 113.564 MiB, 5.35% gc time)\n",
      "  1.042688 seconds (2.23 M allocations: 108.883 MiB, 5.63% gc time)\n",
      "elapsed CPU time: 1.49 seconds\n",
      "  1.578377 seconds (26.31 M allocations: 615.012 MiB, 9.46% gc time)\n"
     ]
    },
    {
     "data": {
      "text/html": [
       "<table class=\"data-frame\"><thead><tr><th></th><th>VendorID</th><th>tpep_pickup_datetime</th><th>tpep_dropoff_datetime</th><th>passenger_count</th><th>trip_distance</th><th>pickup_longitude</th><th>pickup_latitude</th><th>RateCodeID</th><th>store_and_fwd_flag</th><th>dropoff_longitude</th><th>dropoff_latitude</th><th>payment_type</th><th>fare_amount</th><th>extra</th><th>mta_tax</th><th>tip_amount</th><th>tolls_amount</th><th>total_amount</th><th>tip_percentage</th><th>new_tip_amount</th><th>zip_code</th></tr><tr><th></th><th>Int64⍰</th><th>String⍰</th><th>String⍰</th><th>Int64⍰</th><th>Float64⍰</th><th>Float64⍰</th><th>Float64⍰</th><th>Int64⍰</th><th>String⍰</th><th>Float64⍰</th><th>Float64⍰</th><th>Int64⍰</th><th>Float64⍰</th><th>Float64⍰</th><th>Float64⍰</th><th>Float64⍰</th><th>Float64⍰</th><th>Float64⍰</th><th>Float64⍰</th><th>Float64⍰</th><th>String⍰</th></tr></thead><tbody><tr><th>1</th><td>1</td><td>10804</td><td>2015-01-08 22:51:35</td><td>1</td><td>1.6</td><td>-73.9722</td><td>40.7593</td><td>1</td><td>N</td><td>-73.9861</td><td>40.7401</td><td>1</td><td>7.5</td><td>0.5</td><td>0.5</td><td>1.2</td><td>0.0</td><td>10.0</td><td>13.6364</td><td>1.2</td><td>10804</td></tr><tr><th>2</th><td>2</td><td>10583</td><td>2015-01-08 22:46:37</td><td>1</td><td>0.52</td><td>-73.9727</td><td>40.7933</td><td>1</td><td>N</td><td>-73.9713</td><td>40.7971</td><td>1</td><td>4.0</td><td>0.5</td><td>0.5</td><td>0.9</td><td>0.0</td><td>6.2</td><td>16.9811</td><td>0.9</td><td>10583</td></tr><tr><th>3</th><td>2</td><td>10475</td><td>2015-01-08 22:55:05</td><td>3</td><td>6.23</td><td>-74.0115</td><td>40.7027</td><td>1</td><td>N</td><td>-73.9595</td><td>40.7629</td><td>1</td><td>18.5</td><td>0.5</td><td>0.5</td><td>3.8</td><td>0.0</td><td>23.6</td><td>19.1919</td><td>3.8</td><td>10475</td></tr><tr><th>4</th><td>2</td><td>10306</td><td>2015-01-08 22:59:12</td><td>1</td><td>5.88</td><td>-73.9287</td><td>40.7439</td><td>5</td><td>N</td><td>-73.8552</td><td>40.7278</td><td>1</td><td>75.0</td><td>0.0</td><td>0.0</td><td>5.0</td><td>0.0</td><td>80.3</td><td>6.64011</td><td>5.0</td><td>10306</td></tr><tr><th>5</th><td>2</td><td>10804</td><td>2015-01-08 23:02:04</td><td>1</td><td>3.48</td><td>-73.9744</td><td>40.7553</td><td>1</td><td>N</td><td>-73.981</td><td>40.7212</td><td>1</td><td>15.0</td><td>0.5</td><td>0.5</td><td>3.1</td><td>0.0</td><td>19.4</td><td>19.0184</td><td>3.1</td><td>10804</td></tr><tr><th>6</th><td>1</td><td>10804</td><td>2015-01-08 22:48:17</td><td>1</td><td>1.0</td><td>-73.977</td><td>40.7523</td><td>1</td><td>N</td><td>-73.9776</td><td>40.7629</td><td>1</td><td>5.0</td><td>0.5</td><td>0.5</td><td>3.0</td><td>0.0</td><td>9.3</td><td>47.619</td><td>3.0</td><td>10804</td></tr></tbody></table>"
      ],
      "text/plain": [
       "6×21 DataFrame. Omitted printing of 18 columns\n",
       "│ Row │ VendorID │ tpep_pickup_datetime │ tpep_dropoff_datetime │\n",
       "│     │ \u001b[90mInt64⍰\u001b[39m   │ \u001b[90mString⍰\u001b[39m              │ \u001b[90mString⍰\u001b[39m               │\n",
       "├─────┼──────────┼──────────────────────┼───────────────────────┤\n",
       "│ 1   │ 1        │ 10804                │ 2015-01-08 22:51:35   │\n",
       "│ 2   │ 2        │ 10583                │ 2015-01-08 22:46:37   │\n",
       "│ 3   │ 2        │ 10475                │ 2015-01-08 22:55:05   │\n",
       "│ 4   │ 2        │ 10306                │ 2015-01-08 22:59:12   │\n",
       "│ 5   │ 2        │ 10804                │ 2015-01-08 23:02:04   │\n",
       "│ 6   │ 1        │ 10804                │ 2015-01-08 22:48:17   │"
      ]
     },
     "execution_count": 1,
     "metadata": {},
     "output_type": "execute_result"
    }
   ],
   "source": [
    "using Dates, DataFrames, CSV, CPUTime, PyCall, LaTeXStrings, Query\n",
    "\n",
    "#@time trips = CSV.read(\"$(Base.source_dir())/../data/sample_100000.csv\", separator = ',')\n",
    "@time trips = CSV.read(\"$(Base.source_dir())/../data/sample_1000.csv\", separator = ',')\n",
    "@time zips = CSV.read(\"$(Base.source_dir())/../data/zip_codes_states.csv\", separator = ',')\n",
    "\n",
    "println(\"finished read\")\n",
    "\n",
    "#prepare_data\n",
    "@time prepare_data = @from i in trips begin    \n",
    "            @select {i..., tip_percentage=100*(i.tip_amount / (i.total_amount - i.tip_amount))}\n",
    "            @collect DataFrame\n",
    "       end\n",
    "\n",
    "NYC_region=[-74.15,40.5,-73.65,41]\n",
    "\n",
    "#clean_data\n",
    "@time clean_data = @from i in prepare_data begin   \n",
    "            @where i.tip_amount>0 &&\n",
    "    i.pickup_longitude > NYC_region[1]  && \n",
    "                    i.pickup_longitude < NYC_region[3]  &&\n",
    "                    i.dropoff_latitude > NYC_region[2] &&\n",
    "                    i.dropoff_latitude < NYC_region[4] &&\n",
    "                    i.payment_type == 1 && #creditcard\n",
    "                    i.passenger_count > 0\n",
    "            @select {i...,new_tip_amount=i.tip_amount}\n",
    "            @collect DataFrame\n",
    "       end\n",
    "\n",
    "NYCzips = zips[zips[:state] .== \"NY\", :]\n",
    "\n",
    "function getZipCode(zips, lat, lon, step)   \n",
    "    step = parse(Float64,step)\n",
    "    \n",
    "    area_borders = [lat-step, lat+step, lon-step, lon+step]\n",
    "    \n",
    "    zips =zips[completecases(zips), :]\n",
    "    local_zips = filter(r -> (r.latitude > area_borders[1]) &\n",
    "        (r.latitude < area_borders[2]) &\n",
    "        (r.longitude > area_borders[3]) &\n",
    "        (r.longitude < area_borders[4]), zips)\n",
    "    \n",
    "    if(nrow(local_zips)==0)        \n",
    "        if (step<2)\n",
    "                # if there are no ZIP codes in the borders, enlarge the borders and recursively repeat the operation\n",
    "                r = getZipCode(zips, lat, lon, step+0.2)\n",
    "        else\n",
    "                # if step is already too big - just return NA\n",
    "                r = str(\"000000\")\n",
    "        end       \n",
    "     else\n",
    "        # calculate the distances to the ZIP codes filtered\n",
    "        #local_zips.distance = local_zips.latitude + local_zips.longitude\n",
    "        local_zips.distance_proxy = local_zips.latitude\n",
    "        \n",
    "        for i in 1:size(local_zips, 1) \n",
    "            local_zips[i, :distance_proxy] = sqrt((local_zips[i, :latitude] - lat)^2 +\n",
    "                (local_zips[i, :longitude] - lon)^2)\n",
    "        end\n",
    "        #println(local_zips)\n",
    "        # local_zips.distance = sqrt((local_zips.latitude-lat)^2 + (local_zips.longitude-lon)^2)\n",
    "        # sort the filtered ZIP codes according to the distance\n",
    "        sort!(local_zips, :distance_proxy, rev=true)\n",
    "        #zips = local_zips[order(local_zips.distance),]\n",
    "        # return the nearest ZIP code\n",
    "        r = local_zips[1,:zip_code]\n",
    "    end\n",
    "            \n",
    "    return   string(r)\n",
    "    \n",
    "end\n",
    "        \n",
    "\n",
    "#augument_data\n",
    "clean_data.zip_code = clean_data.tpep_pickup_datetime\n",
    "@time @CPUtime for i in 1:size(clean_data, 1) \n",
    "    clean_data[i, :zip_code] = string( getZipCode(NYCzips,\n",
    "                clean_data[i, :pickup_latitude],\n",
    "                clean_data[i, :pickup_longitude],\"0.2\"))\n",
    "end\n",
    "\n",
    "    \n",
    "head(clean_data)\n",
    "\n",
    "# this takes up to a minute to run and so be patient\n"
   ]
  },
  {
   "cell_type": "code",
   "execution_count": 2,
   "metadata": {},
   "outputs": [
    {
     "name": "stdout",
     "output_type": "stream",
     "text": [
      "  4.171103 seconds (13.00 M allocations: 715.163 MiB, 12.29% gc time)\n"
     ]
    },
    {
     "data": {
      "text/html": [
       "<table class=\"data-frame\"><thead><tr><th></th><th>VendorID</th><th>tpep_pickup_datetime</th><th>tpep_dropoff_datetime</th><th>passenger_count</th><th>trip_distance</th><th>pickup_longitude</th><th>pickup_latitude</th><th>RateCodeID</th><th>store_and_fwd_flag</th><th>dropoff_longitude</th><th>dropoff_latitude</th><th>payment_type</th><th>fare_amount</th><th>extra</th><th>mta_tax</th><th>tip_amount</th><th>tolls_amount</th><th>total_amount</th><th>tip_percentage</th><th>new_tip_amount</th><th>zip_code</th></tr><tr><th></th><th>Int64⍰</th><th>String⍰</th><th>String⍰</th><th>Int64⍰</th><th>Float64⍰</th><th>Float64⍰</th><th>Float64⍰</th><th>Int64⍰</th><th>String⍰</th><th>Float64⍰</th><th>Float64⍰</th><th>Int64⍰</th><th>Float64⍰</th><th>Float64⍰</th><th>Float64⍰</th><th>Float64⍰</th><th>Float64⍰</th><th>Float64⍰</th><th>Float64⍰</th><th>Float64⍰</th><th>String⍰</th></tr></thead><tbody><tr><th>1</th><td>1</td><td>10804</td><td>2015-01-08 22:51:35</td><td>1</td><td>1.6</td><td>-73.9722</td><td>40.7593</td><td>1</td><td>N</td><td>-73.9861</td><td>40.7401</td><td>1</td><td>7.5</td><td>0.5</td><td>0.5</td><td>1.2</td><td>0.0</td><td>10.0</td><td>13.6364</td><td>1.2</td><td>10804</td></tr><tr><th>2</th><td>2</td><td>10583</td><td>2015-01-08 22:46:37</td><td>1</td><td>0.52</td><td>-73.9727</td><td>40.7933</td><td>1</td><td>N</td><td>-73.9713</td><td>40.7971</td><td>1</td><td>4.0</td><td>0.5</td><td>0.5</td><td>0.9</td><td>0.0</td><td>6.2</td><td>16.9811</td><td>0.9</td><td>10583</td></tr><tr><th>3</th><td>2</td><td>10475</td><td>2015-01-08 22:55:05</td><td>3</td><td>6.23</td><td>-74.0115</td><td>40.7027</td><td>1</td><td>N</td><td>-73.9595</td><td>40.7629</td><td>1</td><td>18.5</td><td>0.5</td><td>0.5</td><td>3.8</td><td>0.0</td><td>23.6</td><td>19.1919</td><td>3.8</td><td>10475</td></tr><tr><th>4</th><td>2</td><td>10306</td><td>2015-01-08 22:59:12</td><td>1</td><td>5.88</td><td>-73.9287</td><td>40.7439</td><td>5</td><td>N</td><td>-73.8552</td><td>40.7278</td><td>1</td><td>75.0</td><td>0.0</td><td>0.0</td><td>5.0</td><td>0.0</td><td>80.3</td><td>6.64011</td><td>5.0</td><td>10306</td></tr><tr><th>5</th><td>2</td><td>10804</td><td>2015-01-08 23:02:04</td><td>1</td><td>3.48</td><td>-73.9744</td><td>40.7553</td><td>1</td><td>N</td><td>-73.981</td><td>40.7212</td><td>1</td><td>15.0</td><td>0.5</td><td>0.5</td><td>3.1</td><td>0.0</td><td>19.4</td><td>19.0184</td><td>3.1</td><td>10804</td></tr><tr><th>6</th><td>1</td><td>10804</td><td>2015-01-08 22:48:17</td><td>1</td><td>1.0</td><td>-73.977</td><td>40.7523</td><td>1</td><td>N</td><td>-73.9776</td><td>40.7629</td><td>1</td><td>5.0</td><td>0.5</td><td>0.5</td><td>3.0</td><td>0.0</td><td>9.3</td><td>47.619</td><td>3.0</td><td>10804</td></tr></tbody></table>"
      ],
      "text/plain": [
       "6×21 DataFrame. Omitted printing of 18 columns\n",
       "│ Row │ VendorID │ tpep_pickup_datetime │ tpep_dropoff_datetime │\n",
       "│     │ \u001b[90mInt64⍰\u001b[39m   │ \u001b[90mString⍰\u001b[39m              │ \u001b[90mString⍰\u001b[39m               │\n",
       "├─────┼──────────┼──────────────────────┼───────────────────────┤\n",
       "│ 1   │ 1        │ 10804                │ 2015-01-08 22:51:35   │\n",
       "│ 2   │ 2        │ 10583                │ 2015-01-08 22:46:37   │\n",
       "│ 3   │ 2        │ 10475                │ 2015-01-08 22:55:05   │\n",
       "│ 4   │ 2        │ 10306                │ 2015-01-08 22:59:12   │\n",
       "│ 5   │ 2        │ 10804                │ 2015-01-08 23:02:04   │\n",
       "│ 6   │ 1        │ 10804                │ 2015-01-08 22:48:17   │"
      ]
     },
     "execution_count": 2,
     "metadata": {},
     "output_type": "execute_result"
    }
   ],
   "source": [
    "using Statistics\n",
    "@time by(clean_data, :payment_type, df -> mean(df.tip_amount))\n",
    "\n",
    "head(clean_data)\n",
    "\n",
    "# this should finish in 5 seconds"
   ]
  },
  {
   "cell_type": "code",
   "execution_count": 3,
   "metadata": {},
   "outputs": [
    {
     "data": {
      "image/png": "[encoded data removed]"
     },
     "execution_count": 3,
     "metadata": {},
     "output_type": "execute_result"
    }
   ],
   "source": [
    "# this does not build easily but if you fiddle with it, it will eventually work\n",
    "# https://docs.juliaplots.org/latest/examples/pyplot/\n",
    "\n",
    "# use Plots engine\n",
    "using Plots, PyCall\n",
    "pyplot()\n",
    "#plot(Plots.fakedata(50,5),w=3)\n",
    "scatter!(clean_data.fare_amount, clean_data.tip_amount, markersize=6, c=:orange, title=\"My Plot\")\n",
    "#plotly() # Choose the Plotly.jl backend for web interactivity\n",
    "#plot(rand(5,5),linewidth=2,title=\"My Plot\")\n",
    "\n",
    "# use PyPlot engine\n",
    "#using PyPlot, PyCall\n",
    "#pyplot() # Switch to using the PyPlot.jl backend\n",
    "#plot(rand(5,5),linewidth=2,title=\"My Plot\") # The same plotting command works"
   ]
  },
  {
   "cell_type": "code",
   "execution_count": null,
   "metadata": {},
   "outputs": [],
   "source": []
  }
 ],
 "metadata": {
  "kernelspec": {
   "display_name": "Julia 1.0.0",
   "language": "julia",
   "name": "julia-1.0"
  },
  "language_info": {
   "file_extension": ".jl",
   "mimetype": "application/julia",
   "name": "julia",
   "version": "1.0.0"
  }
 },
 "nbformat": 4,
 "nbformat_minor": 2
}
